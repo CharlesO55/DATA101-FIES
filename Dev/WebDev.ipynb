{
 "cells": [
  {
   "cell_type": "code",
   "execution_count": 1,
   "id": "09614ab4-3979-487c-b712-6caea280342f",
   "metadata": {},
   "outputs": [],
   "source": [
    "import pandas as pd\n",
    "import plotly.express as px\n",
    "import geopandas as gpd\n",
    "from dash import Dash, dcc, html, Output, Input\n",
    "import dash_bootstrap_components as dbc\n",
    "\n",
    "#CUSTOM GRAPHS\n",
    "import ipynb.fs.full.GraphFunctions as MyGraphs"
   ]
  },
  {
   "cell_type": "markdown",
   "id": "3039625b-a7db-44b9-9edd-2e9a3c098db6",
   "metadata": {},
   "source": [
    "## Prep Pandas Dataframe"
   ]
  },
  {
   "cell_type": "code",
   "execution_count": 2,
   "id": "35001f53-b753-401d-8edf-a5433ac12bb7",
   "metadata": {},
   "outputs": [],
   "source": [
    "df_Raw = MyGraphs.GetDataframe()\n",
    "#df_Raw.head()"
   ]
  },
  {
   "cell_type": "markdown",
   "id": "6ca21e7f-1523-4d6e-aff1-0a8d76fd8625",
   "metadata": {},
   "source": [
    "## Prep GeoJson"
   ]
  },
  {
   "cell_type": "code",
   "execution_count": 3,
   "id": "bd208a95-877b-40ed-9496-78e5f1e63342",
   "metadata": {},
   "outputs": [],
   "source": [
    "gj_PhMap = MyGraphs.GetGeoJson()\n",
    "#gj_PhMap.head()"
   ]
  },
  {
   "cell_type": "markdown",
   "id": "08c4585b-e949-46fb-b7ef-878df552fbf1",
   "metadata": {},
   "source": [
    "# Website Development\n",
    "### Stylesheet"
   ]
  },
  {
   "cell_type": "code",
   "execution_count": 4,
   "id": "830e210e-34a9-4006-819b-8869ca932dc1",
   "metadata": {},
   "outputs": [],
   "source": [
    "external_CSS = [dbc.themes.MINTY, 'https://codepen.io/chriddyp/pen/bWLwgP.css']\n",
    "app = Dash(__name__, external_stylesheets=[external_CSS])"
   ]
  },
  {
   "cell_type": "markdown",
   "id": "54cb70d6-346d-4796-8fe8-3598a99b24bb",
   "metadata": {},
   "source": [
    "# Components"
   ]
  },
  {
   "cell_type": "markdown",
   "id": "8c99ebf2-51f6-4172-8902-a5b2c1db359d",
   "metadata": {},
   "source": [
    "#### [1] Income Choropleth"
   ]
  },
  {
   "cell_type": "code",
   "execution_count": 5,
   "id": "78ef8b3d-d32a-4c6e-83ab-2909a3a769f2",
   "metadata": {},
   "outputs": [],
   "source": [
    "grph_1 = dcc.Graph(id='Choropleth_Income', figure={}, clickData=None, className='six colummns')\n",
    "dpdn_1 = dcc.Dropdown(id='Choropleth_Dropdown', value='Mean', \n",
    "                      options=['Mean','Median', 'Min', 'Max'])"
   ]
  },
  {
   "cell_type": "markdown",
   "id": "1e257e71-3fbe-4cfe-95f9-8d40002eab50",
   "metadata": {},
   "source": [
    "#### [2] Top 10 Jobs"
   ]
  },
  {
   "cell_type": "code",
   "execution_count": 6,
   "id": "05f786e1-b6b9-4795-85f0-6a82d357c7fc",
   "metadata": {},
   "outputs": [],
   "source": [
    "grph_2 = dcc.Graph(id='Pie_TopJobs', figure={}, className='six colummns')"
   ]
  },
  {
   "cell_type": "markdown",
   "id": "5d7642d4-ce05-4b76-88b1-0a51a3614039",
   "metadata": {},
   "source": [
    "#### [3] Income vs Expenses"
   ]
  },
  {
   "cell_type": "code",
   "execution_count": 7,
   "id": "d671e7d3-6ecd-4f25-8a73-7df298307ce1",
   "metadata": {},
   "outputs": [],
   "source": [
    "dpdn_3 = dcc.Dropdown(id='Dropdown_RegionIncomeVsExpenses', options=df_Raw['Region'].unique(), value=df_Raw['Region'].unique(), clearable=False, multi=True)\n",
    "grph_3 = dcc.Graph(id='Bar_IncomeVsExpenses', figure={})"
   ]
  },
  {
   "cell_type": "markdown",
   "id": "818de6c0-a17f-4e9a-af17-74b6dd1b7492",
   "metadata": {},
   "source": [
    "#### [4] Food Expenditure Breakdown"
   ]
  },
  {
   "cell_type": "code",
   "execution_count": 16,
   "id": "c0c1f6a9-20ff-42b0-ae41-0f0e9f091003",
   "metadata": {},
   "outputs": [],
   "source": [
    "checklist_4 = dcc.Checklist(id='Food_Checklist', value= MyGraphs.GetFoodLabels(), \n",
    "                            options = MyGraphs.GetFoodLabels(),\n",
    "                            inline=True)\n",
    "grph_4 = dcc.Graph(id='Bar_FoodBreakdown', figure={})"
   ]
  },
  {
   "cell_type": "markdown",
   "id": "0df16a2f-19f1-4d21-87ae-cbb28f4e82a4",
   "metadata": {},
   "source": [
    "# Layout"
   ]
  },
  {
   "cell_type": "code",
   "execution_count": 9,
   "id": "9fbee80b-a3fc-4b75-906c-c03db9ffbe69",
   "metadata": {},
   "outputs": [],
   "source": [
    "app.layout = html.Div([\n",
    "    dpdn_1,\n",
    "    html.Div([grph_1, grph_2]),\n",
    "\n",
    "    dpdn_3, grph_3,\n",
    "    \n",
    "    checklist_4,\n",
    "    grph_4\n",
    "])"
   ]
  },
  {
   "cell_type": "markdown",
   "id": "7beffa36-1cd7-4185-b613-51685b36f87b",
   "metadata": {},
   "source": [
    "# Callback"
   ]
  },
  {
   "cell_type": "markdown",
   "id": "deb5a707-f795-477f-a2ae-22ceb0bca0b6",
   "metadata": {},
   "source": [
    "#### [1] Income Choropleth"
   ]
  },
  {
   "cell_type": "code",
   "execution_count": 10,
   "id": "bcdac187-3b9d-4169-bad2-294f38a21b56",
   "metadata": {
    "jupyter": {
     "source_hidden": true
    }
   },
   "outputs": [],
   "source": [
    "@app.callback(\n",
    "    Output(component_id='Choropleth_Income', component_property='figure'),\n",
    "    Input(component_id='Choropleth_Dropdown', component_property='value')\n",
    ")\n",
    "def UpdateIncomeChoropleth(dropdownChoice):\n",
    "    fig = MyGraphs.GetFig_Choropleth(\n",
    "        ref_Dataframe = df_Raw, \n",
    "        ref_GeoJson = gj_PhMap, \n",
    "        agg_Mode = dropdownChoice\n",
    "    )\n",
    "    return fig"
   ]
  },
  {
   "cell_type": "markdown",
   "id": "6ee3f95d-b83e-4caf-ab58-88cc2c045684",
   "metadata": {},
   "source": [
    "#### [2] Top 10 Jobs"
   ]
  },
  {
   "cell_type": "code",
   "execution_count": 11,
   "id": "e0e6cb7d-f294-4ad6-b802-9e0f53f394ca",
   "metadata": {
    "jupyter": {
     "source_hidden": true
    }
   },
   "outputs": [],
   "source": [
    "@app.callback(\n",
    "    Output(component_id='Pie_TopJobs', component_property='figure'),\n",
    "    Input(component_id='Choropleth_Income', component_property='clickData')\n",
    ")\n",
    "def UpdateTopJobs(clk_data):\n",
    "        if clk_data is None:\n",
    "            fig2 = MyGraphs.GetFig_MostEmployedJobs(df_Raw, 'NCR')\n",
    "            return fig2\n",
    "        else:\n",
    "            clk_Region = clk_data['points'][0]['location']\n",
    "            fig2 = MyGraphs.GetFig_MostEmployedJobs(df_Raw, clk_Region)\n",
    "            return fig2"
   ]
  },
  {
   "cell_type": "markdown",
   "id": "335a67a3-729c-44a1-a106-164bd8756a4b",
   "metadata": {},
   "source": [
    "#### [3] Income vs Expenses"
   ]
  },
  {
   "cell_type": "code",
   "execution_count": 12,
   "id": "ff9af1d2-ad0b-419e-9860-46e4fdf7da8f",
   "metadata": {},
   "outputs": [],
   "source": [
    "@app.callback(\n",
    "    Output(component_id='Bar_IncomeVsExpenses', component_property='figure'),\n",
    "    Input(component_id='Dropdown_RegionIncomeVsExpenses', component_property='value')\n",
    ")\n",
    "def UpdateIncomeExpenseComparison(slct_Regions):\n",
    "    return MyGraphs.GetFig_IncomeVsExpenses(df_Raw, slct_Regions)"
   ]
  },
  {
   "cell_type": "markdown",
   "id": "89ee7bbe-cf62-42dd-a993-2b46a15f0417",
   "metadata": {},
   "source": [
    "#### [4] Food Expenditure Breakdown"
   ]
  },
  {
   "cell_type": "code",
   "execution_count": 13,
   "id": "b0f2e14b-b651-4c23-b229-ed367b872060",
   "metadata": {},
   "outputs": [],
   "source": [
    "@app.callback(\n",
    "    Output(component_id='Bar_FoodBreakdown', component_property='figure'),\n",
    "    Input(component_id='Food_Checklist', component_property='value')\n",
    ")\n",
    "def UpdateFoodExpenditure(slct_foods):\n",
    "    if slct_foods is None:\n",
    "        return\n",
    "    else:\n",
    "        fig = MyGraphs.GetFig_FoodBreakdown(df_Raw, slct_foods)\n",
    "        return fig"
   ]
  },
  {
   "cell_type": "markdown",
   "id": "61f0a4f5-f102-485f-b524-54458e20516d",
   "metadata": {},
   "source": [
    "# Run"
   ]
  },
  {
   "cell_type": "code",
   "execution_count": 14,
   "id": "b75baef7-277a-454f-bb17-930aa6cf9d1a",
   "metadata": {},
   "outputs": [
    {
     "data": {
      "text/html": [
       "\n",
       "        <iframe\n",
       "            width=\"100%\"\n",
       "            height=\"650\"\n",
       "            src=\"http://127.0.0.1:8052/\"\n",
       "            frameborder=\"0\"\n",
       "            allowfullscreen\n",
       "            \n",
       "        ></iframe>\n",
       "        "
      ],
      "text/plain": [
       "<IPython.lib.display.IFrame at 0x17dac90ae90>"
      ]
     },
     "metadata": {},
     "output_type": "display_data"
    }
   ],
   "source": [
    "if __name__ == '__main__':\n",
    "    app.run_server(port=8052)"
   ]
  }
 ],
 "metadata": {
  "kernelspec": {
   "display_name": "Python 3 (ipykernel)",
   "language": "python",
   "name": "python3"
  },
  "language_info": {
   "codemirror_mode": {
    "name": "ipython",
    "version": 3
   },
   "file_extension": ".py",
   "mimetype": "text/x-python",
   "name": "python",
   "nbconvert_exporter": "python",
   "pygments_lexer": "ipython3",
   "version": "3.10.10"
  }
 },
 "nbformat": 4,
 "nbformat_minor": 5
}
