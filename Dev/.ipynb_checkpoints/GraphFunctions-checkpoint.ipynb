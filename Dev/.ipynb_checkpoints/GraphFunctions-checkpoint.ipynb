{
 "cells": [
  {
   "cell_type": "code",
   "execution_count": 1,
   "id": "835c5e8e-65b7-4780-be8f-d4463fe3d3cb",
   "metadata": {},
   "outputs": [],
   "source": [
    "import pandas as pd\n",
    "import plotly.express as px\n",
    "import geopandas as gpd"
   ]
  },
  {
   "cell_type": "markdown",
   "id": "7b5a9769-e83d-4da5-995f-4c5bafa6d6e6",
   "metadata": {},
   "source": [
    "## Pandas and GeoJson Prep"
   ]
  },
  {
   "cell_type": "code",
   "execution_count": 2,
   "id": "b4be3a8c-b2a4-45b9-8285-dac547f1ef03",
   "metadata": {},
   "outputs": [],
   "source": [
    "def GetDataframe():\n",
    "    df_Raw = pd.read_csv('../Datasets/Family Income and Expenditure.csv')\n",
    "\n",
    "    #Remove whitespaces like in ' ARMM'\n",
    "    df_Raw['Region'] = df_Raw['Region'].apply(lambda x: x.strip())\n",
    "\n",
    "    #Change the food column name\n",
    "    df_Raw.rename(columns={\n",
    "                    'Bread and Cereals Expenditure':'Bread and Cereals',\n",
    "                    'Meat Expenditure':'Meat',\n",
    "                    'Total Rice Expenditure':'Rice', \n",
    "                    'Total Fish and  marine products Expenditure':'Seafood', \n",
    "                    'Fruit Expenditure':'Fruits', \n",
    "                    'Vegetables Expenditure':'Vegetables'\n",
    "                  },\n",
    "                  inplace=True\n",
    "                 )\n",
    "\n",
    "    df_Raw['Household Head Education Level'] = \"None\"\n",
    "    def SetEduLevel(ref_Dataframe, str_ScanFor, str_Replace):\n",
    "        for currStr in str_ScanFor:\n",
    "            ref_Dataframe.loc[ref_Dataframe['Household Head Highest Grade Completed'].str.contains(currStr), 'Household Head Education Level'] = str_Replace\n",
    "\n",
    "\n",
    "    SetEduLevel(df_Raw, ['No Grade Completed'], 'None')\n",
    "    SetEduLevel(df_Raw, ['Preschool'], 'Preschool')\n",
    "    SetEduLevel(df_Raw, ['Grade 1', 'Grade 2','Grade 3','Grade 4','Grade 5','Grade 6','Elementary Graduate'], 'Primary')\n",
    "    SetEduLevel(df_Raw, ['High School'], 'Secondary')\n",
    "    SetEduLevel(df_Raw, ['Program'], 'TESDA')\n",
    "    SetEduLevel(df_Raw, ['College', 'Post Secondary', 'Baccalaureate', 'Business and Administration Programs', 'Humanities Programs', 'Engineering and Engineering Trades Programs','Social and Behavioral Science Programs','Health Programs','Engineering and Engineering trades Programs','Computing/Information Technology Programs','Mathematics and Statistics Programs','Law Programs','Journalism and Information Programs','Architecture and Building Programs','Manufacturing and Processing Programs', 'Life Sciences Programs','Physical Sciences Programs', 'Arts Programs','Veterinary Programs'], \n",
    "                'Tertiary')\n",
    "\n",
    "\n",
    "    def SetRegionID(ref_Dataframe):\n",
    "        RegionID = GetRegionIDs()\n",
    "        for x in RegionID.keys():\n",
    "            ref_Dataframe.loc[ref_Dataframe['Region'] == x, 'RegionID'] = RegionID[x]\n",
    "\n",
    "    SetRegionID(df_Raw)\n",
    "    \n",
    "    return df_Raw"
   ]
  },
  {
   "cell_type": "code",
   "execution_count": 3,
   "id": "82731b39-0111-42c4-8daf-cdb74be3369d",
   "metadata": {},
   "outputs": [],
   "source": [
    "def GetColumnNames_ForFood():\n",
    "    return ['Bread and Cereals','Meat', 'Rice', 'Seafood', 'Fruits', 'Vegetables']"
   ]
  },
  {
   "cell_type": "code",
   "execution_count": 4,
   "id": "d7cb0bd5-6895-441a-9023-b6922259ccf5",
   "metadata": {},
   "outputs": [],
   "source": [
    "def GetGeoJson():\n",
    "    gj_PhMap = gpd.read_file('../Datasets/country.0.001.json')\n",
    "\n",
    "    # MATCH REGION NAME TO OUR CSV \n",
    "    gj_PhMap['adm1_en'] = gj_PhMap['adm1_en'].replace(\n",
    "        ['Region I (Ilocos Region)', 'Region II (Cagayan Valley)',\n",
    "           'Region III (Central Luzon)', 'Region IV-A (CALABARZON)',\n",
    "           'Region V (Bicol Region)', 'Region VI (Western Visayas)',\n",
    "           'Region VII (Central Visayas)', 'Region VIII (Eastern Visayas)',\n",
    "           'Region IX (Zamboanga Peninsula)', 'Region X (Northern Mindanao)',\n",
    "           'Region XI (Davao Region)', 'Region XII (SOCCSKSARGEN)',\n",
    "           'National Capital Region (NCR)',\n",
    "           'Cordillera Administrative Region (CAR)', 'Region XIII (Caraga)',\n",
    "           'MIMAROPA Region',\n",
    "           'Bangsamoro Autonomous Region In Muslim Mindanao (BARMM)']\n",
    "        ,\n",
    "    \n",
    "        ['I - Ilocos Region', 'II - Cagayan Valley',\n",
    "         'III - Central Luzon', 'IVA - CALABARZON',\n",
    "         'V - Bicol Region', 'VI - Western Visayas', \n",
    "         'VII - Central Visayas', 'VIII - Eastern Visayas',\n",
    "         'IX - Zasmboanga Peninsula', 'X - Northern Mindanao',\n",
    "         'XI - Davao Region', 'XII - SOCCSKSARGEN',\n",
    "         'NCR',\n",
    "         'CAR', 'Caraga',\n",
    "         'IVB - MIMAROPA', \n",
    "         'ARMM'])\n",
    "    return gj_PhMap"
   ]
  },
  {
   "cell_type": "markdown",
   "id": "568472f2-ee4c-43b4-a6c3-c5bf758dc60f",
   "metadata": {},
   "source": [
    "# All Graphs"
   ]
  },
  {
   "cell_type": "markdown",
   "id": "50ab0858-9d9d-4fe4-9b1e-f34dcc1f70d3",
   "metadata": {},
   "source": [
    "## Choropleth of Income"
   ]
  },
  {
   "cell_type": "code",
   "execution_count": 5,
   "id": "e9ad0daa-ebe8-4ca2-8f17-1fd96dc8c2e7",
   "metadata": {},
   "outputs": [],
   "source": [
    "def GetFig_Choropleth(ref_Dataframe, ref_GeoJson, agg_Mode):\n",
    "    match agg_Mode:\n",
    "        case 'Max':\n",
    "           agg_Income = ref_Dataframe.groupby('Region')['Total Household Income'].max()\n",
    "        case 'Min':\n",
    "           agg_Income = ref_Dataframe.groupby('Region')['Total Household Income'].min()\n",
    "        case 'Median':\n",
    "           agg_Income = ref_Dataframe.groupby('Region')['Total Household Income'].median()\n",
    "        case default:\n",
    "           agg_Income = ref_Dataframe.groupby('Region')['Total Household Income'].mean()\n",
    "    \n",
    "    \n",
    "    fig = px.choropleth_mapbox(\n",
    "        data_frame = agg_Income,\n",
    "        geojson = ref_GeoJson,\n",
    "        locations = agg_Income.index, #'Region',\n",
    "        featureidkey = 'properties.adm1_en',\n",
    "        color = agg_Income.values, #'Total Household Income',\n",
    "        center = {'lat': 12.738500, 'lon': 121.766632},\n",
    "        mapbox_style= 'carto-positron',\n",
    "        zoom = 4,\n",
    "        opacity = 0.3,\n",
    "        height=600,\n",
    "        labels={'color':'Php'},\n",
    "        title='Income per Region'\n",
    "    )\n",
    "    return fig"
   ]
  },
  {
   "cell_type": "markdown",
   "id": "68c5300e-b34e-4a37-a154-471fea097a67",
   "metadata": {},
   "source": [
    "## Pie Chart of Top 10 Jobs"
   ]
  },
  {
   "cell_type": "code",
   "execution_count": 6,
   "id": "107a44d7-70ee-434a-8821-237164ee22b5",
   "metadata": {},
   "outputs": [],
   "source": [
    "def GetFig_MostEmployedJobs(ref_Dataframe, region_Name):\n",
    "    df_AllJobs = ref_Dataframe[ref_Dataframe['Region'] == region_Name]['Household Head Occupation'].value_counts()\n",
    "    df_Top10Jobs = df_AllJobs[:10]\n",
    "    #df_Top10Jobs['Others'] = df_AllJobs[10:].sum()\n",
    "    #print(df_Top10Jobs)\n",
    "    #fig = px.histogram(data_frame=df_Top10Jobs, x=df_Top10Jobs.index, y= df_Top10Jobs.values)\n",
    "    \n",
    "    fig = px.pie(df_Top10Jobs, values = df_Top10Jobs.values, names = df_Top10Jobs.index, title='Top 10 Most Employed Jobs in ' + region_Name, hover_name=df_Top10Jobs.index)\n",
    "    return fig"
   ]
  },
  {
   "cell_type": "markdown",
   "id": "ee404295-baf9-401d-b646-4a9466c82126",
   "metadata": {},
   "source": [
    "## Stacked Barchart of Food Breakdown per Region"
   ]
  },
  {
   "cell_type": "code",
   "execution_count": 7,
   "id": "bb643f1c-1bc1-4226-9861-d08d4326563f",
   "metadata": {},
   "outputs": [],
   "source": [
    "def GetFig_FoodBreakdown(ref_Dataframe, selected_Foods, grouping_By):\n",
    "    avg_FoodExpenses = ref_Dataframe.groupby(grouping_By)[selected_Foods].mean()\n",
    "    \n",
    "    fig = px.bar(data_frame = avg_FoodExpenses, x=avg_FoodExpenses.index, y=selected_Foods, \n",
    "                 title='Average Food Expenses' , labels={'value':'Php', 'variable':'Food Expenses'}) \n",
    "    fig.update_layout(barmode='stack')\n",
    "    return fig"
   ]
  },
  {
   "cell_type": "markdown",
   "id": "047d2c52-4653-4d23-ac1f-5bad8ee4a60e",
   "metadata": {},
   "source": [
    "## Stacked Barchart of Income vs Expenses"
   ]
  },
  {
   "cell_type": "code",
   "execution_count": 70,
   "id": "37f41faa-1bb6-42b9-a088-f957e5d265f1",
   "metadata": {},
   "outputs": [],
   "source": [
    "def GetFig_IncomeVsExpenses(ref_Dataframe, selected_Regions, selected_Category, is_Collapse):\n",
    "    #ref_Dataframe = GetDataframe() \n",
    "    #selected_Regions = ['NCR', 'CAR']\n",
    "    #selected_Category = ['Income', 'Utilities']\n",
    "    #is_Collapse = False\n",
    "    \n",
    "    queryCols =['Region']\n",
    "    for i in selected_Category:\n",
    "        for j in GetExpenseTypes()[i]:\n",
    "            queryCols.append(j)\n",
    "    \n",
    "    df_IncomeAndExpenses = ref_Dataframe[queryCols].copy()\n",
    "    df_IncomeAndExpenses.set_index('Region', inplace=True)\n",
    "    \n",
    "    if (is_Collapse):\n",
    "        for i in selected_Category:\n",
    "            df_IncomeAndExpenses[i] = df_IncomeAndExpenses[GetExpenseTypes()[i]].sum(axis=1)\n",
    "            df_IncomeAndExpenses.drop(columns=GetExpenseTypes()[i], inplace=True)\n",
    "    \n",
    "    aggByRegion = df_IncomeAndExpenses.groupby('Region')[df_IncomeAndExpenses.columns].median()\n",
    "    \n",
    "    # FILTER TO ONLY OUR SELECTED REGIONS\n",
    "    aggByRegion = aggByRegion.loc[selected_Regions]\n",
    "    \n",
    "    # MAKE EXPENSES NEGATIVE\n",
    "    aggByRegion.loc[:, ~aggByRegion.columns.isin(['Income', 'Total Household Income'])] *= -1\n",
    "    \n",
    "    # PLOT THE GRAPH\n",
    "    fig = px.bar(data_frame = aggByRegion, x=aggByRegion.index, y=aggByRegion.columns, barmode='relative',\n",
    "                 title = 'Median Income and Expenses per Region',\n",
    "                 height = 600,\n",
    "                 labels={\n",
    "                    'value' : 'Php',\n",
    "                    'variable' : 'Income and Expenses'\n",
    "                })\n",
    "    return fig\n",
    "    \n",
    "    \n",
    "    \n",
    "    # selected_Category = ['Income', 'Utilities']\n",
    "    \n",
    "    # queryCols =['Region']\n",
    "    # for i in selected_Category:\n",
    "    #     for j in GetExpenseTypes()[i]:\n",
    "    #         queryCols.append(j)\n",
    "    \n",
    "    # df_IncomeAndExpenses = ref_Dataframe[queryCols].copy()\n",
    "    \n",
    "    # # GET THE MEDIAN OF THE REGIONS\n",
    "    # queryCols.remove('Region')\n",
    "    # aggByRegion = df_IncomeAndExpenses.groupby('Region')[queryCols].median().reset_index()\n",
    "    \n",
    "    # # FILTER TO ONLY OUR SELECTED REGIONS\n",
    "    # aggByRegion = aggByRegion[aggByRegion['Region'].apply(lambda x: x in selected_Regions)]\n",
    "    \n",
    "    # # MAKE EXPENSES NEGATIVE\n",
    "    # aggByRegion[queryCols] *= -1\n",
    "    # aggByRegion['Total Household Income'] *= -1\n",
    "\n",
    "    # # PLOT THE GRAPH\n",
    "    # fig = px.bar(data_frame = aggByRegion, x='Region', y=queryCols, barmode='relative',\n",
    "    #              title = 'Median Income and Expenses per Region',\n",
    "    #              height = 600,\n",
    "    #              labels={\n",
    "    #                 'value' : 'Php',\n",
    "    #                 'variable' : 'Income and Expenses'\n",
    "    #             })\n",
    "    # #fig.update_layout(xaxis={'categoryorder':'total descending'})\n",
    "    # return fig"
   ]
  },
  {
   "cell_type": "code",
   "execution_count": 9,
   "id": "8ff64913-bde7-4984-9b7e-9680ea5a8e15",
   "metadata": {},
   "outputs": [],
   "source": [
    "def GetGroupings_ForFoodBreakdown():\n",
    "    return [ 'Household Head Sex',\n",
    "       'Household Head Age', 'Household Head Marital Status',\n",
    "       'Household Head Education Level',\n",
    "       'Household Head Job or Business Indicator', \n",
    "       'Household Head Class of Worker', 'Type of Household',\n",
    "       'Total Number of Family members',\n",
    "       'Members with age less than 5 year old',\n",
    "       'Members with age 5 - 17 years old',\n",
    "       'Total number of family members employed', 'Type of Building/House',\n",
    "       'Type of Roof', 'Type of Walls', 'House Floor Area', 'House Age',\n",
    "       'Number of bedrooms', 'Tenure Status', 'Toilet Facilities',\n",
    "       'Electricity', 'Main Source of Water Supply', 'Number of Television',\n",
    "       'Number of CD/VCD/DVD', 'Number of Component/Stereo set',\n",
    "       'Number of Refrigerator/Freezer', 'Number of Washing Machine',\n",
    "       'Number of Airconditioner', 'Number of Car, Jeep, Van',\n",
    "       'Number of Landline/wireless telephones', 'Number of Cellular phone',\n",
    "       'Number of Personal Computer', 'Number of Stove with Oven/Gas Range',\n",
    "       'Number of Motorized Banca', 'Number of Motorcycle/Tricycle']"
   ]
  },
  {
   "cell_type": "code",
   "execution_count": 10,
   "id": "6b9d1da2-798b-4d02-ba3b-3e8fcc3b3bea",
   "metadata": {},
   "outputs": [],
   "source": [
    "def GetExpenseTypes(): \n",
    "    return {\n",
    "            \"Income\": ['Total Household Income'],\n",
    "            \"Food\": ['Total Food Expenditure'],\n",
    "            \"Education\": ['Education Expenditure'],\n",
    "            \"Healthcare\": ['Medical Care Expenditure'],\n",
    "            \"Clothing\": ['Clothing, Footwear and Other Wear Expenditure'],\n",
    "            \"Utilities\":['Housing and water Expenditure', 'Imputed House Rental Value', 'Communication Expenditure','Miscellaneous Goods and Services Expenditure','Transportation Expenditure','Crop Farming and Gardening expenses'],\n",
    "            \"Social\" : ['Special Occasions Expenditure', 'Restaurant and hotels Expenditure'],\n",
    "            \"Vices\": ['Tobacco Expenditure', 'Alcoholic Beverages Expenditure']\n",
    "            }"
   ]
  },
  {
   "cell_type": "code",
   "execution_count": 11,
   "id": "65390360-0d3d-42a1-85e4-9b4cdf20cea9",
   "metadata": {},
   "outputs": [],
   "source": [
    "def GetRegionIDs():\n",
    "    return {\n",
    "            'I - Ilocos Region' : 1, \n",
    "            'CAR' : 1.5,\n",
    "            'II - Cagayan Valley' : 2,\n",
    "            'III - Central Luzon' : 3,\n",
    "            'NCR': 3.5,\n",
    "            'IVA - CALABARZON' : 4,\n",
    "            'IVB - MIMAROPA' : 4.5, \n",
    "            'V - Bicol Region' : 5,\n",
    "            'VI - Western Visayas' : 6,\n",
    "            'VII - Central Visayas' : 7,\n",
    "            'VIII - Eastern Visayas' : 8, \n",
    "            'IX - Zasmboanga Peninsula' : 9,\n",
    "            'X - Northern Mindanao' : 10, \n",
    "            'XI - Davao Region' : 11,\n",
    "            'XII - SOCCSKSARGEN' : 12,\n",
    "            'Caraga' : 13,  \n",
    "            'ARMM' : 14\n",
    "        }"
   ]
  },
  {
   "cell_type": "code",
   "execution_count": 69,
   "id": "3686bca2-b55f-4816-bbad-e4f6fbd6e926",
   "metadata": {},
   "outputs": [
    {
     "data": {
      "application/vnd.plotly.v1+json": {
       "config": {
        "plotlyServerURL": "https://plot.ly"
       },
       "data": [
        {
         "alignmentgroup": "True",
         "hovertemplate": "Income and Expenses=Total Household Income<br>Region=%{x}<br>Php=%{y}<extra></extra>",
         "legendgroup": "Total Household Income",
         "marker": {
          "color": "#636efa",
          "pattern": {
           "shape": ""
          }
         },
         "name": "Total Household Income",
         "offsetgroup": "Total Household Income",
         "orientation": "v",
         "showlegend": true,
         "textposition": "auto",
         "type": "bar",
         "x": [
          "NCR",
          "CAR"
         ],
         "xaxis": "x",
         "y": [
          312275,
          188580
         ],
         "yaxis": "y"
        },
        {
         "alignmentgroup": "True",
         "hovertemplate": "Income and Expenses=Housing and water Expenditure<br>Region=%{x}<br>Php=%{y}<extra></extra>",
         "legendgroup": "Housing and water Expenditure",
         "marker": {
          "color": "#EF553B",
          "pattern": {
           "shape": ""
          }
         },
         "name": "Housing and water Expenditure",
         "offsetgroup": "Housing and water Expenditure",
         "orientation": "v",
         "showlegend": true,
         "textposition": "auto",
         "type": "bar",
         "x": [
          "NCR",
          "CAR"
         ],
         "xaxis": "x",
         "y": [
          -62259,
          -27702
         ],
         "yaxis": "y"
        },
        {
         "alignmentgroup": "True",
         "hovertemplate": "Income and Expenses=Imputed House Rental Value<br>Region=%{x}<br>Php=%{y}<extra></extra>",
         "legendgroup": "Imputed House Rental Value",
         "marker": {
          "color": "#00cc96",
          "pattern": {
           "shape": ""
          }
         },
         "name": "Imputed House Rental Value",
         "offsetgroup": "Imputed House Rental Value",
         "orientation": "v",
         "showlegend": true,
         "textposition": "auto",
         "type": "bar",
         "x": [
          "NCR",
          "CAR"
         ],
         "xaxis": "x",
         "y": [
          -30000,
          -12000
         ],
         "yaxis": "y"
        },
        {
         "alignmentgroup": "True",
         "hovertemplate": "Income and Expenses=Communication Expenditure<br>Region=%{x}<br>Php=%{y}<extra></extra>",
         "legendgroup": "Communication Expenditure",
         "marker": {
          "color": "#ab63fa",
          "pattern": {
           "shape": ""
          }
         },
         "name": "Communication Expenditure",
         "offsetgroup": "Communication Expenditure",
         "orientation": "v",
         "showlegend": true,
         "textposition": "auto",
         "type": "bar",
         "x": [
          "NCR",
          "CAR"
         ],
         "xaxis": "x",
         "y": [
          -5199,
          -1680
         ],
         "yaxis": "y"
        },
        {
         "alignmentgroup": "True",
         "hovertemplate": "Income and Expenses=Miscellaneous Goods and Services Expenditure<br>Region=%{x}<br>Php=%{y}<extra></extra>",
         "legendgroup": "Miscellaneous Goods and Services Expenditure",
         "marker": {
          "color": "#FFA15A",
          "pattern": {
           "shape": ""
          }
         },
         "name": "Miscellaneous Goods and Services Expenditure",
         "offsetgroup": "Miscellaneous Goods and Services Expenditure",
         "orientation": "v",
         "showlegend": true,
         "textposition": "auto",
         "type": "bar",
         "x": [
          "NCR",
          "CAR"
         ],
         "xaxis": "x",
         "y": [
          -16239,
          -6720
         ],
         "yaxis": "y"
        },
        {
         "alignmentgroup": "True",
         "hovertemplate": "Income and Expenses=Transportation Expenditure<br>Region=%{x}<br>Php=%{y}<extra></extra>",
         "legendgroup": "Transportation Expenditure",
         "marker": {
          "color": "#19d3f3",
          "pattern": {
           "shape": ""
          }
         },
         "name": "Transportation Expenditure",
         "offsetgroup": "Transportation Expenditure",
         "orientation": "v",
         "showlegend": true,
         "textposition": "auto",
         "type": "bar",
         "x": [
          "NCR",
          "CAR"
         ],
         "xaxis": "x",
         "y": [
          -14535,
          -5430
         ],
         "yaxis": "y"
        },
        {
         "alignmentgroup": "True",
         "hovertemplate": "Income and Expenses=Crop Farming and Gardening expenses<br>Region=%{x}<br>Php=%{y}<extra></extra>",
         "legendgroup": "Crop Farming and Gardening expenses",
         "marker": {
          "color": "#FF6692",
          "pattern": {
           "shape": ""
          }
         },
         "name": "Crop Farming and Gardening expenses",
         "offsetgroup": "Crop Farming and Gardening expenses",
         "orientation": "v",
         "showlegend": true,
         "textposition": "auto",
         "type": "bar",
         "x": [
          "NCR",
          "CAR"
         ],
         "xaxis": "x",
         "y": [
          0,
          -5380
         ],
         "yaxis": "y"
        }
       ],
       "layout": {
        "autosize": true,
        "barmode": "relative",
        "legend": {
         "title": {
          "text": "Income and Expenses"
         },
         "tracegroupgap": 0
        },
        "template": {
         "data": {
          "bar": [
           {
            "error_x": {
             "color": "#2a3f5f"
            },
            "error_y": {
             "color": "#2a3f5f"
            },
            "marker": {
             "line": {
              "color": "#E5ECF6",
              "width": 0.5
             },
             "pattern": {
              "fillmode": "overlay",
              "size": 10,
              "solidity": 0.2
             }
            },
            "type": "bar"
           }
          ],
          "barpolar": [
           {
            "marker": {
             "line": {
              "color": "#E5ECF6",
              "width": 0.5
             },
             "pattern": {
              "fillmode": "overlay",
              "size": 10,
              "solidity": 0.2
             }
            },
            "type": "barpolar"
           }
          ],
          "carpet": [
           {
            "aaxis": {
             "endlinecolor": "#2a3f5f",
             "gridcolor": "white",
             "linecolor": "white",
             "minorgridcolor": "white",
             "startlinecolor": "#2a3f5f"
            },
            "baxis": {
             "endlinecolor": "#2a3f5f",
             "gridcolor": "white",
             "linecolor": "white",
             "minorgridcolor": "white",
             "startlinecolor": "#2a3f5f"
            },
            "type": "carpet"
           }
          ],
          "choropleth": [
           {
            "colorbar": {
             "outlinewidth": 0,
             "ticks": ""
            },
            "type": "choropleth"
           }
          ],
          "contour": [
           {
            "colorbar": {
             "outlinewidth": 0,
             "ticks": ""
            },
            "colorscale": [
             [
              0,
              "#0d0887"
             ],
             [
              0.1111111111111111,
              "#46039f"
             ],
             [
              0.2222222222222222,
              "#7201a8"
             ],
             [
              0.3333333333333333,
              "#9c179e"
             ],
             [
              0.4444444444444444,
              "#bd3786"
             ],
             [
              0.5555555555555556,
              "#d8576b"
             ],
             [
              0.6666666666666666,
              "#ed7953"
             ],
             [
              0.7777777777777778,
              "#fb9f3a"
             ],
             [
              0.8888888888888888,
              "#fdca26"
             ],
             [
              1,
              "#f0f921"
             ]
            ],
            "type": "contour"
           }
          ],
          "contourcarpet": [
           {
            "colorbar": {
             "outlinewidth": 0,
             "ticks": ""
            },
            "type": "contourcarpet"
           }
          ],
          "heatmap": [
           {
            "colorbar": {
             "outlinewidth": 0,
             "ticks": ""
            },
            "colorscale": [
             [
              0,
              "#0d0887"
             ],
             [
              0.1111111111111111,
              "#46039f"
             ],
             [
              0.2222222222222222,
              "#7201a8"
             ],
             [
              0.3333333333333333,
              "#9c179e"
             ],
             [
              0.4444444444444444,
              "#bd3786"
             ],
             [
              0.5555555555555556,
              "#d8576b"
             ],
             [
              0.6666666666666666,
              "#ed7953"
             ],
             [
              0.7777777777777778,
              "#fb9f3a"
             ],
             [
              0.8888888888888888,
              "#fdca26"
             ],
             [
              1,
              "#f0f921"
             ]
            ],
            "type": "heatmap"
           }
          ],
          "heatmapgl": [
           {
            "colorbar": {
             "outlinewidth": 0,
             "ticks": ""
            },
            "colorscale": [
             [
              0,
              "#0d0887"
             ],
             [
              0.1111111111111111,
              "#46039f"
             ],
             [
              0.2222222222222222,
              "#7201a8"
             ],
             [
              0.3333333333333333,
              "#9c179e"
             ],
             [
              0.4444444444444444,
              "#bd3786"
             ],
             [
              0.5555555555555556,
              "#d8576b"
             ],
             [
              0.6666666666666666,
              "#ed7953"
             ],
             [
              0.7777777777777778,
              "#fb9f3a"
             ],
             [
              0.8888888888888888,
              "#fdca26"
             ],
             [
              1,
              "#f0f921"
             ]
            ],
            "type": "heatmapgl"
           }
          ],
          "histogram": [
           {
            "marker": {
             "pattern": {
              "fillmode": "overlay",
              "size": 10,
              "solidity": 0.2
             }
            },
            "type": "histogram"
           }
          ],
          "histogram2d": [
           {
            "colorbar": {
             "outlinewidth": 0,
             "ticks": ""
            },
            "colorscale": [
             [
              0,
              "#0d0887"
             ],
             [
              0.1111111111111111,
              "#46039f"
             ],
             [
              0.2222222222222222,
              "#7201a8"
             ],
             [
              0.3333333333333333,
              "#9c179e"
             ],
             [
              0.4444444444444444,
              "#bd3786"
             ],
             [
              0.5555555555555556,
              "#d8576b"
             ],
             [
              0.6666666666666666,
              "#ed7953"
             ],
             [
              0.7777777777777778,
              "#fb9f3a"
             ],
             [
              0.8888888888888888,
              "#fdca26"
             ],
             [
              1,
              "#f0f921"
             ]
            ],
            "type": "histogram2d"
           }
          ],
          "histogram2dcontour": [
           {
            "colorbar": {
             "outlinewidth": 0,
             "ticks": ""
            },
            "colorscale": [
             [
              0,
              "#0d0887"
             ],
             [
              0.1111111111111111,
              "#46039f"
             ],
             [
              0.2222222222222222,
              "#7201a8"
             ],
             [
              0.3333333333333333,
              "#9c179e"
             ],
             [
              0.4444444444444444,
              "#bd3786"
             ],
             [
              0.5555555555555556,
              "#d8576b"
             ],
             [
              0.6666666666666666,
              "#ed7953"
             ],
             [
              0.7777777777777778,
              "#fb9f3a"
             ],
             [
              0.8888888888888888,
              "#fdca26"
             ],
             [
              1,
              "#f0f921"
             ]
            ],
            "type": "histogram2dcontour"
           }
          ],
          "mesh3d": [
           {
            "colorbar": {
             "outlinewidth": 0,
             "ticks": ""
            },
            "type": "mesh3d"
           }
          ],
          "parcoords": [
           {
            "line": {
             "colorbar": {
              "outlinewidth": 0,
              "ticks": ""
             }
            },
            "type": "parcoords"
           }
          ],
          "pie": [
           {
            "automargin": true,
            "type": "pie"
           }
          ],
          "scatter": [
           {
            "fillpattern": {
             "fillmode": "overlay",
             "size": 10,
             "solidity": 0.2
            },
            "type": "scatter"
           }
          ],
          "scatter3d": [
           {
            "line": {
             "colorbar": {
              "outlinewidth": 0,
              "ticks": ""
             }
            },
            "marker": {
             "colorbar": {
              "outlinewidth": 0,
              "ticks": ""
             }
            },
            "type": "scatter3d"
           }
          ],
          "scattercarpet": [
           {
            "marker": {
             "colorbar": {
              "outlinewidth": 0,
              "ticks": ""
             }
            },
            "type": "scattercarpet"
           }
          ],
          "scattergeo": [
           {
            "marker": {
             "colorbar": {
              "outlinewidth": 0,
              "ticks": ""
             }
            },
            "type": "scattergeo"
           }
          ],
          "scattergl": [
           {
            "marker": {
             "colorbar": {
              "outlinewidth": 0,
              "ticks": ""
             }
            },
            "type": "scattergl"
           }
          ],
          "scattermapbox": [
           {
            "marker": {
             "colorbar": {
              "outlinewidth": 0,
              "ticks": ""
             }
            },
            "type": "scattermapbox"
           }
          ],
          "scatterpolar": [
           {
            "marker": {
             "colorbar": {
              "outlinewidth": 0,
              "ticks": ""
             }
            },
            "type": "scatterpolar"
           }
          ],
          "scatterpolargl": [
           {
            "marker": {
             "colorbar": {
              "outlinewidth": 0,
              "ticks": ""
             }
            },
            "type": "scatterpolargl"
           }
          ],
          "scatterternary": [
           {
            "marker": {
             "colorbar": {
              "outlinewidth": 0,
              "ticks": ""
             }
            },
            "type": "scatterternary"
           }
          ],
          "surface": [
           {
            "colorbar": {
             "outlinewidth": 0,
             "ticks": ""
            },
            "colorscale": [
             [
              0,
              "#0d0887"
             ],
             [
              0.1111111111111111,
              "#46039f"
             ],
             [
              0.2222222222222222,
              "#7201a8"
             ],
             [
              0.3333333333333333,
              "#9c179e"
             ],
             [
              0.4444444444444444,
              "#bd3786"
             ],
             [
              0.5555555555555556,
              "#d8576b"
             ],
             [
              0.6666666666666666,
              "#ed7953"
             ],
             [
              0.7777777777777778,
              "#fb9f3a"
             ],
             [
              0.8888888888888888,
              "#fdca26"
             ],
             [
              1,
              "#f0f921"
             ]
            ],
            "type": "surface"
           }
          ],
          "table": [
           {
            "cells": {
             "fill": {
              "color": "#EBF0F8"
             },
             "line": {
              "color": "white"
             }
            },
            "header": {
             "fill": {
              "color": "#C8D4E3"
             },
             "line": {
              "color": "white"
             }
            },
            "type": "table"
           }
          ]
         },
         "layout": {
          "annotationdefaults": {
           "arrowcolor": "#2a3f5f",
           "arrowhead": 0,
           "arrowwidth": 1
          },
          "autotypenumbers": "strict",
          "coloraxis": {
           "colorbar": {
            "outlinewidth": 0,
            "ticks": ""
           }
          },
          "colorscale": {
           "diverging": [
            [
             0,
             "#8e0152"
            ],
            [
             0.1,
             "#c51b7d"
            ],
            [
             0.2,
             "#de77ae"
            ],
            [
             0.3,
             "#f1b6da"
            ],
            [
             0.4,
             "#fde0ef"
            ],
            [
             0.5,
             "#f7f7f7"
            ],
            [
             0.6,
             "#e6f5d0"
            ],
            [
             0.7,
             "#b8e186"
            ],
            [
             0.8,
             "#7fbc41"
            ],
            [
             0.9,
             "#4d9221"
            ],
            [
             1,
             "#276419"
            ]
           ],
           "sequential": [
            [
             0,
             "#0d0887"
            ],
            [
             0.1111111111111111,
             "#46039f"
            ],
            [
             0.2222222222222222,
             "#7201a8"
            ],
            [
             0.3333333333333333,
             "#9c179e"
            ],
            [
             0.4444444444444444,
             "#bd3786"
            ],
            [
             0.5555555555555556,
             "#d8576b"
            ],
            [
             0.6666666666666666,
             "#ed7953"
            ],
            [
             0.7777777777777778,
             "#fb9f3a"
            ],
            [
             0.8888888888888888,
             "#fdca26"
            ],
            [
             1,
             "#f0f921"
            ]
           ],
           "sequentialminus": [
            [
             0,
             "#0d0887"
            ],
            [
             0.1111111111111111,
             "#46039f"
            ],
            [
             0.2222222222222222,
             "#7201a8"
            ],
            [
             0.3333333333333333,
             "#9c179e"
            ],
            [
             0.4444444444444444,
             "#bd3786"
            ],
            [
             0.5555555555555556,
             "#d8576b"
            ],
            [
             0.6666666666666666,
             "#ed7953"
            ],
            [
             0.7777777777777778,
             "#fb9f3a"
            ],
            [
             0.8888888888888888,
             "#fdca26"
            ],
            [
             1,
             "#f0f921"
            ]
           ]
          },
          "colorway": [
           "#636efa",
           "#EF553B",
           "#00cc96",
           "#ab63fa",
           "#FFA15A",
           "#19d3f3",
           "#FF6692",
           "#B6E880",
           "#FF97FF",
           "#FECB52"
          ],
          "font": {
           "color": "#2a3f5f"
          },
          "geo": {
           "bgcolor": "white",
           "lakecolor": "white",
           "landcolor": "#E5ECF6",
           "showlakes": true,
           "showland": true,
           "subunitcolor": "white"
          },
          "hoverlabel": {
           "align": "left"
          },
          "hovermode": "closest",
          "mapbox": {
           "style": "light"
          },
          "paper_bgcolor": "white",
          "plot_bgcolor": "#E5ECF6",
          "polar": {
           "angularaxis": {
            "gridcolor": "white",
            "linecolor": "white",
            "ticks": ""
           },
           "bgcolor": "#E5ECF6",
           "radialaxis": {
            "gridcolor": "white",
            "linecolor": "white",
            "ticks": ""
           }
          },
          "scene": {
           "xaxis": {
            "backgroundcolor": "#E5ECF6",
            "gridcolor": "white",
            "gridwidth": 2,
            "linecolor": "white",
            "showbackground": true,
            "ticks": "",
            "zerolinecolor": "white"
           },
           "yaxis": {
            "backgroundcolor": "#E5ECF6",
            "gridcolor": "white",
            "gridwidth": 2,
            "linecolor": "white",
            "showbackground": true,
            "ticks": "",
            "zerolinecolor": "white"
           },
           "zaxis": {
            "backgroundcolor": "#E5ECF6",
            "gridcolor": "white",
            "gridwidth": 2,
            "linecolor": "white",
            "showbackground": true,
            "ticks": "",
            "zerolinecolor": "white"
           }
          },
          "shapedefaults": {
           "line": {
            "color": "#2a3f5f"
           }
          },
          "ternary": {
           "aaxis": {
            "gridcolor": "white",
            "linecolor": "white",
            "ticks": ""
           },
           "baxis": {
            "gridcolor": "white",
            "linecolor": "white",
            "ticks": ""
           },
           "bgcolor": "#E5ECF6",
           "caxis": {
            "gridcolor": "white",
            "linecolor": "white",
            "ticks": ""
           }
          },
          "title": {
           "x": 0.05
          },
          "xaxis": {
           "automargin": true,
           "gridcolor": "white",
           "linecolor": "white",
           "ticks": "",
           "title": {
            "standoff": 15
           },
           "zerolinecolor": "white",
           "zerolinewidth": 2
          },
          "yaxis": {
           "automargin": true,
           "gridcolor": "white",
           "linecolor": "white",
           "ticks": "",
           "title": {
            "standoff": 15
           },
           "zerolinecolor": "white",
           "zerolinewidth": 2
          }
         }
        },
        "title": {
         "text": "Median Income and Expenses per Region"
        },
        "xaxis": {
         "anchor": "y",
         "autorange": true,
         "domain": [
          0,
          1
         ],
         "range": [
          -0.5,
          1.5
         ],
         "title": {
          "text": "Region"
         },
         "type": "category"
        },
        "yaxis": {
         "anchor": "x",
         "autorange": true,
         "domain": [
          0,
          1
         ],
         "range": [
          -152704.61111111112,
          336747.6111111111
         ],
         "title": {
          "text": "Php"
         },
         "type": "linear"
        }
       }
      },
      "image/png": "[encoded data removed]",
      "text/html": [
       "<div>                            <div id=\"b0cdc64f-9b2d-4422-ba34-ef6cf162d420\" class=\"plotly-graph-div\" style=\"height:600px; width:100%;\"></div>            <script type=\"text/javascript\">                require([\"plotly\"], function(Plotly) {                    window.PLOTLYENV=window.PLOTLYENV || {};                                    if (document.getElementById(\"b0cdc64f-9b2d-4422-ba34-ef6cf162d420\")) {                    Plotly.newPlot(                        \"b0cdc64f-9b2d-4422-ba34-ef6cf162d420\",                        [{\"alignmentgroup\":\"True\",\"hovertemplate\":\"Income and Expenses=Total Household Income\\u003cbr\\u003eRegion=%{x}\\u003cbr\\u003ePhp=%{y}\\u003cextra\\u003e\\u003c\\u002fextra\\u003e\",\"legendgroup\":\"Total Household Income\",\"marker\":{\"color\":\"#636efa\",\"pattern\":{\"shape\":\"\"}},\"name\":\"Total Household Income\",\"offsetgroup\":\"Total Household Income\",\"orientation\":\"v\",\"showlegend\":true,\"textposition\":\"auto\",\"x\":[\"NCR\",\"CAR\"],\"xaxis\":\"x\",\"y\":[312275.0,188580.0],\"yaxis\":\"y\",\"type\":\"bar\"},{\"alignmentgroup\":\"True\",\"hovertemplate\":\"Income and Expenses=Housing and water Expenditure\\u003cbr\\u003eRegion=%{x}\\u003cbr\\u003ePhp=%{y}\\u003cextra\\u003e\\u003c\\u002fextra\\u003e\",\"legendgroup\":\"Housing and water Expenditure\",\"marker\":{\"color\":\"#EF553B\",\"pattern\":{\"shape\":\"\"}},\"name\":\"Housing and water Expenditure\",\"offsetgroup\":\"Housing and water Expenditure\",\"orientation\":\"v\",\"showlegend\":true,\"textposition\":\"auto\",\"x\":[\"NCR\",\"CAR\"],\"xaxis\":\"x\",\"y\":[-62259.0,-27702.0],\"yaxis\":\"y\",\"type\":\"bar\"},{\"alignmentgroup\":\"True\",\"hovertemplate\":\"Income and Expenses=Imputed House Rental Value\\u003cbr\\u003eRegion=%{x}\\u003cbr\\u003ePhp=%{y}\\u003cextra\\u003e\\u003c\\u002fextra\\u003e\",\"legendgroup\":\"Imputed House Rental Value\",\"marker\":{\"color\":\"#00cc96\",\"pattern\":{\"shape\":\"\"}},\"name\":\"Imputed House Rental Value\",\"offsetgroup\":\"Imputed House Rental Value\",\"orientation\":\"v\",\"showlegend\":true,\"textposition\":\"auto\",\"x\":[\"NCR\",\"CAR\"],\"xaxis\":\"x\",\"y\":[-30000.0,-12000.0],\"yaxis\":\"y\",\"type\":\"bar\"},{\"alignmentgroup\":\"True\",\"hovertemplate\":\"Income and Expenses=Communication Expenditure\\u003cbr\\u003eRegion=%{x}\\u003cbr\\u003ePhp=%{y}\\u003cextra\\u003e\\u003c\\u002fextra\\u003e\",\"legendgroup\":\"Communication Expenditure\",\"marker\":{\"color\":\"#ab63fa\",\"pattern\":{\"shape\":\"\"}},\"name\":\"Communication Expenditure\",\"offsetgroup\":\"Communication Expenditure\",\"orientation\":\"v\",\"showlegend\":true,\"textposition\":\"auto\",\"x\":[\"NCR\",\"CAR\"],\"xaxis\":\"x\",\"y\":[-5199.0,-1680.0],\"yaxis\":\"y\",\"type\":\"bar\"},{\"alignmentgroup\":\"True\",\"hovertemplate\":\"Income and Expenses=Miscellaneous Goods and Services Expenditure\\u003cbr\\u003eRegion=%{x}\\u003cbr\\u003ePhp=%{y}\\u003cextra\\u003e\\u003c\\u002fextra\\u003e\",\"legendgroup\":\"Miscellaneous Goods and Services Expenditure\",\"marker\":{\"color\":\"#FFA15A\",\"pattern\":{\"shape\":\"\"}},\"name\":\"Miscellaneous Goods and Services Expenditure\",\"offsetgroup\":\"Miscellaneous Goods and Services Expenditure\",\"orientation\":\"v\",\"showlegend\":true,\"textposition\":\"auto\",\"x\":[\"NCR\",\"CAR\"],\"xaxis\":\"x\",\"y\":[-16239.0,-6720.0],\"yaxis\":\"y\",\"type\":\"bar\"},{\"alignmentgroup\":\"True\",\"hovertemplate\":\"Income and Expenses=Transportation Expenditure\\u003cbr\\u003eRegion=%{x}\\u003cbr\\u003ePhp=%{y}\\u003cextra\\u003e\\u003c\\u002fextra\\u003e\",\"legendgroup\":\"Transportation Expenditure\",\"marker\":{\"color\":\"#19d3f3\",\"pattern\":{\"shape\":\"\"}},\"name\":\"Transportation Expenditure\",\"offsetgroup\":\"Transportation Expenditure\",\"orientation\":\"v\",\"showlegend\":true,\"textposition\":\"auto\",\"x\":[\"NCR\",\"CAR\"],\"xaxis\":\"x\",\"y\":[-14535.0,-5430.0],\"yaxis\":\"y\",\"type\":\"bar\"},{\"alignmentgroup\":\"True\",\"hovertemplate\":\"Income and Expenses=Crop Farming and Gardening expenses\\u003cbr\\u003eRegion=%{x}\\u003cbr\\u003ePhp=%{y}\\u003cextra\\u003e\\u003c\\u002fextra\\u003e\",\"legendgroup\":\"Crop Farming and Gardening expenses\",\"marker\":{\"color\":\"#FF6692\",\"pattern\":{\"shape\":\"\"}},\"name\":\"Crop Farming and Gardening expenses\",\"offsetgroup\":\"Crop Farming and Gardening expenses\",\"orientation\":\"v\",\"showlegend\":true,\"textposition\":\"auto\",\"x\":[\"NCR\",\"CAR\"],\"xaxis\":\"x\",\"y\":[-0.0,-5380.0],\"yaxis\":\"y\",\"type\":\"bar\"}],                        {\"template\":{\"data\":{\"histogram2dcontour\":[{\"type\":\"histogram2dcontour\",\"colorbar\":{\"outlinewidth\":0,\"ticks\":\"\"},\"colorscale\":[[0.0,\"#0d0887\"],[0.1111111111111111,\"#46039f\"],[0.2222222222222222,\"#7201a8\"],[0.3333333333333333,\"#9c179e\"],[0.4444444444444444,\"#bd3786\"],[0.5555555555555556,\"#d8576b\"],[0.6666666666666666,\"#ed7953\"],[0.7777777777777778,\"#fb9f3a\"],[0.8888888888888888,\"#fdca26\"],[1.0,\"#f0f921\"]]}],\"choropleth\":[{\"type\":\"choropleth\",\"colorbar\":{\"outlinewidth\":0,\"ticks\":\"\"}}],\"histogram2d\":[{\"type\":\"histogram2d\",\"colorbar\":{\"outlinewidth\":0,\"ticks\":\"\"},\"colorscale\":[[0.0,\"#0d0887\"],[0.1111111111111111,\"#46039f\"],[0.2222222222222222,\"#7201a8\"],[0.3333333333333333,\"#9c179e\"],[0.4444444444444444,\"#bd3786\"],[0.5555555555555556,\"#d8576b\"],[0.6666666666666666,\"#ed7953\"],[0.7777777777777778,\"#fb9f3a\"],[0.8888888888888888,\"#fdca26\"],[1.0,\"#f0f921\"]]}],\"heatmap\":[{\"type\":\"heatmap\",\"colorbar\":{\"outlinewidth\":0,\"ticks\":\"\"},\"colorscale\":[[0.0,\"#0d0887\"],[0.1111111111111111,\"#46039f\"],[0.2222222222222222,\"#7201a8\"],[0.3333333333333333,\"#9c179e\"],[0.4444444444444444,\"#bd3786\"],[0.5555555555555556,\"#d8576b\"],[0.6666666666666666,\"#ed7953\"],[0.7777777777777778,\"#fb9f3a\"],[0.8888888888888888,\"#fdca26\"],[1.0,\"#f0f921\"]]}],\"heatmapgl\":[{\"type\":\"heatmapgl\",\"colorbar\":{\"outlinewidth\":0,\"ticks\":\"\"},\"colorscale\":[[0.0,\"#0d0887\"],[0.1111111111111111,\"#46039f\"],[0.2222222222222222,\"#7201a8\"],[0.3333333333333333,\"#9c179e\"],[0.4444444444444444,\"#bd3786\"],[0.5555555555555556,\"#d8576b\"],[0.6666666666666666,\"#ed7953\"],[0.7777777777777778,\"#fb9f3a\"],[0.8888888888888888,\"#fdca26\"],[1.0,\"#f0f921\"]]}],\"contourcarpet\":[{\"type\":\"contourcarpet\",\"colorbar\":{\"outlinewidth\":0,\"ticks\":\"\"}}],\"contour\":[{\"type\":\"contour\",\"colorbar\":{\"outlinewidth\":0,\"ticks\":\"\"},\"colorscale\":[[0.0,\"#0d0887\"],[0.1111111111111111,\"#46039f\"],[0.2222222222222222,\"#7201a8\"],[0.3333333333333333,\"#9c179e\"],[0.4444444444444444,\"#bd3786\"],[0.5555555555555556,\"#d8576b\"],[0.6666666666666666,\"#ed7953\"],[0.7777777777777778,\"#fb9f3a\"],[0.8888888888888888,\"#fdca26\"],[1.0,\"#f0f921\"]]}],\"surface\":[{\"type\":\"surface\",\"colorbar\":{\"outlinewidth\":0,\"ticks\":\"\"},\"colorscale\":[[0.0,\"#0d0887\"],[0.1111111111111111,\"#46039f\"],[0.2222222222222222,\"#7201a8\"],[0.3333333333333333,\"#9c179e\"],[0.4444444444444444,\"#bd3786\"],[0.5555555555555556,\"#d8576b\"],[0.6666666666666666,\"#ed7953\"],[0.7777777777777778,\"#fb9f3a\"],[0.8888888888888888,\"#fdca26\"],[1.0,\"#f0f921\"]]}],\"mesh3d\":[{\"type\":\"mesh3d\",\"colorbar\":{\"outlinewidth\":0,\"ticks\":\"\"}}],\"scatter\":[{\"fillpattern\":{\"fillmode\":\"overlay\",\"size\":10,\"solidity\":0.2},\"type\":\"scatter\"}],\"parcoords\":[{\"type\":\"parcoords\",\"line\":{\"colorbar\":{\"outlinewidth\":0,\"ticks\":\"\"}}}],\"scatterpolargl\":[{\"type\":\"scatterpolargl\",\"marker\":{\"colorbar\":{\"outlinewidth\":0,\"ticks\":\"\"}}}],\"bar\":[{\"error_x\":{\"color\":\"#2a3f5f\"},\"error_y\":{\"color\":\"#2a3f5f\"},\"marker\":{\"line\":{\"color\":\"#E5ECF6\",\"width\":0.5},\"pattern\":{\"fillmode\":\"overlay\",\"size\":10,\"solidity\":0.2}},\"type\":\"bar\"}],\"scattergeo\":[{\"type\":\"scattergeo\",\"marker\":{\"colorbar\":{\"outlinewidth\":0,\"ticks\":\"\"}}}],\"scatterpolar\":[{\"type\":\"scatterpolar\",\"marker\":{\"colorbar\":{\"outlinewidth\":0,\"ticks\":\"\"}}}],\"histogram\":[{\"marker\":{\"pattern\":{\"fillmode\":\"overlay\",\"size\":10,\"solidity\":0.2}},\"type\":\"histogram\"}],\"scattergl\":[{\"type\":\"scattergl\",\"marker\":{\"colorbar\":{\"outlinewidth\":0,\"ticks\":\"\"}}}],\"scatter3d\":[{\"type\":\"scatter3d\",\"line\":{\"colorbar\":{\"outlinewidth\":0,\"ticks\":\"\"}},\"marker\":{\"colorbar\":{\"outlinewidth\":0,\"ticks\":\"\"}}}],\"scattermapbox\":[{\"type\":\"scattermapbox\",\"marker\":{\"colorbar\":{\"outlinewidth\":0,\"ticks\":\"\"}}}],\"scatterternary\":[{\"type\":\"scatterternary\",\"marker\":{\"colorbar\":{\"outlinewidth\":0,\"ticks\":\"\"}}}],\"scattercarpet\":[{\"type\":\"scattercarpet\",\"marker\":{\"colorbar\":{\"outlinewidth\":0,\"ticks\":\"\"}}}],\"carpet\":[{\"aaxis\":{\"endlinecolor\":\"#2a3f5f\",\"gridcolor\":\"white\",\"linecolor\":\"white\",\"minorgridcolor\":\"white\",\"startlinecolor\":\"#2a3f5f\"},\"baxis\":{\"endlinecolor\":\"#2a3f5f\",\"gridcolor\":\"white\",\"linecolor\":\"white\",\"minorgridcolor\":\"white\",\"startlinecolor\":\"#2a3f5f\"},\"type\":\"carpet\"}],\"table\":[{\"cells\":{\"fill\":{\"color\":\"#EBF0F8\"},\"line\":{\"color\":\"white\"}},\"header\":{\"fill\":{\"color\":\"#C8D4E3\"},\"line\":{\"color\":\"white\"}},\"type\":\"table\"}],\"barpolar\":[{\"marker\":{\"line\":{\"color\":\"#E5ECF6\",\"width\":0.5},\"pattern\":{\"fillmode\":\"overlay\",\"size\":10,\"solidity\":0.2}},\"type\":\"barpolar\"}],\"pie\":[{\"automargin\":true,\"type\":\"pie\"}]},\"layout\":{\"autotypenumbers\":\"strict\",\"colorway\":[\"#636efa\",\"#EF553B\",\"#00cc96\",\"#ab63fa\",\"#FFA15A\",\"#19d3f3\",\"#FF6692\",\"#B6E880\",\"#FF97FF\",\"#FECB52\"],\"font\":{\"color\":\"#2a3f5f\"},\"hovermode\":\"closest\",\"hoverlabel\":{\"align\":\"left\"},\"paper_bgcolor\":\"white\",\"plot_bgcolor\":\"#E5ECF6\",\"polar\":{\"bgcolor\":\"#E5ECF6\",\"angularaxis\":{\"gridcolor\":\"white\",\"linecolor\":\"white\",\"ticks\":\"\"},\"radialaxis\":{\"gridcolor\":\"white\",\"linecolor\":\"white\",\"ticks\":\"\"}},\"ternary\":{\"bgcolor\":\"#E5ECF6\",\"aaxis\":{\"gridcolor\":\"white\",\"linecolor\":\"white\",\"ticks\":\"\"},\"baxis\":{\"gridcolor\":\"white\",\"linecolor\":\"white\",\"ticks\":\"\"},\"caxis\":{\"gridcolor\":\"white\",\"linecolor\":\"white\",\"ticks\":\"\"}},\"coloraxis\":{\"colorbar\":{\"outlinewidth\":0,\"ticks\":\"\"}},\"colorscale\":{\"sequential\":[[0.0,\"#0d0887\"],[0.1111111111111111,\"#46039f\"],[0.2222222222222222,\"#7201a8\"],[0.3333333333333333,\"#9c179e\"],[0.4444444444444444,\"#bd3786\"],[0.5555555555555556,\"#d8576b\"],[0.6666666666666666,\"#ed7953\"],[0.7777777777777778,\"#fb9f3a\"],[0.8888888888888888,\"#fdca26\"],[1.0,\"#f0f921\"]],\"sequentialminus\":[[0.0,\"#0d0887\"],[0.1111111111111111,\"#46039f\"],[0.2222222222222222,\"#7201a8\"],[0.3333333333333333,\"#9c179e\"],[0.4444444444444444,\"#bd3786\"],[0.5555555555555556,\"#d8576b\"],[0.6666666666666666,\"#ed7953\"],[0.7777777777777778,\"#fb9f3a\"],[0.8888888888888888,\"#fdca26\"],[1.0,\"#f0f921\"]],\"diverging\":[[0,\"#8e0152\"],[0.1,\"#c51b7d\"],[0.2,\"#de77ae\"],[0.3,\"#f1b6da\"],[0.4,\"#fde0ef\"],[0.5,\"#f7f7f7\"],[0.6,\"#e6f5d0\"],[0.7,\"#b8e186\"],[0.8,\"#7fbc41\"],[0.9,\"#4d9221\"],[1,\"#276419\"]]},\"xaxis\":{\"gridcolor\":\"white\",\"linecolor\":\"white\",\"ticks\":\"\",\"title\":{\"standoff\":15},\"zerolinecolor\":\"white\",\"automargin\":true,\"zerolinewidth\":2},\"yaxis\":{\"gridcolor\":\"white\",\"linecolor\":\"white\",\"ticks\":\"\",\"title\":{\"standoff\":15},\"zerolinecolor\":\"white\",\"automargin\":true,\"zerolinewidth\":2},\"scene\":{\"xaxis\":{\"backgroundcolor\":\"#E5ECF6\",\"gridcolor\":\"white\",\"linecolor\":\"white\",\"showbackground\":true,\"ticks\":\"\",\"zerolinecolor\":\"white\",\"gridwidth\":2},\"yaxis\":{\"backgroundcolor\":\"#E5ECF6\",\"gridcolor\":\"white\",\"linecolor\":\"white\",\"showbackground\":true,\"ticks\":\"\",\"zerolinecolor\":\"white\",\"gridwidth\":2},\"zaxis\":{\"backgroundcolor\":\"#E5ECF6\",\"gridcolor\":\"white\",\"linecolor\":\"white\",\"showbackground\":true,\"ticks\":\"\",\"zerolinecolor\":\"white\",\"gridwidth\":2}},\"shapedefaults\":{\"line\":{\"color\":\"#2a3f5f\"}},\"annotationdefaults\":{\"arrowcolor\":\"#2a3f5f\",\"arrowhead\":0,\"arrowwidth\":1},\"geo\":{\"bgcolor\":\"white\",\"landcolor\":\"#E5ECF6\",\"subunitcolor\":\"white\",\"showland\":true,\"showlakes\":true,\"lakecolor\":\"white\"},\"title\":{\"x\":0.05},\"mapbox\":{\"style\":\"light\"}}},\"xaxis\":{\"anchor\":\"y\",\"domain\":[0.0,1.0],\"title\":{\"text\":\"Region\"}},\"yaxis\":{\"anchor\":\"x\",\"domain\":[0.0,1.0],\"title\":{\"text\":\"Php\"}},\"legend\":{\"title\":{\"text\":\"Income and Expenses\"},\"tracegroupgap\":0},\"title\":{\"text\":\"Median Income and Expenses per Region\"},\"barmode\":\"relative\",\"height\":600},                        {\"responsive\": true}                    ).then(function(){\n",
       "                            \n",
       "var gd = document.getElementById('b0cdc64f-9b2d-4422-ba34-ef6cf162d420');\n",
       "var x = new MutationObserver(function (mutations, observer) {{\n",
       "        var display = window.getComputedStyle(gd).display;\n",
       "        if (!display || display === 'none') {{\n",
       "            console.log([gd, 'removed!']);\n",
       "            Plotly.purge(gd);\n",
       "            observer.disconnect();\n",
       "        }}\n",
       "}});\n",
       "\n",
       "// Listen for the removal of the full notebook cells\n",
       "var notebookContainer = gd.closest('#notebook-container');\n",
       "if (notebookContainer) {{\n",
       "    x.observe(notebookContainer, {childList: true});\n",
       "}}\n",
       "\n",
       "// Listen for the clearing of the current output cell\n",
       "var outputEl = gd.closest('.output');\n",
       "if (outputEl) {{\n",
       "    x.observe(outputEl, {childList: true});\n",
       "}}\n",
       "\n",
       "                        })                };                });            </script>        </div>"
      ]
     },
     "metadata": {},
     "output_type": "display_data"
    }
   ],
   "source": [
    "# ref_Dataframe = GetDataframe() \n",
    "# selected_Regions = ['NCR', 'CAR']\n",
    "# selected_Category = ['Income', 'Utilities']\n",
    "# is_Collapse = False\n",
    "\n",
    "# queryCols =['Region']\n",
    "# for i in selected_Category:\n",
    "#     for j in GetExpenseTypes()[i]:\n",
    "#         queryCols.append(j)\n",
    "\n",
    "# df_IncomeAndExpenses = ref_Dataframe[queryCols].copy()\n",
    "# df_IncomeAndExpenses.set_index('Region', inplace=True)\n",
    "\n",
    "# # GET THE MEDIAN OF THE REGIONS\n",
    "# queryCols.remove('Region')\n",
    "\n",
    "# if (is_Collapse):\n",
    "#     for i in selected_Category:\n",
    "#         df_IncomeAndExpenses[i] = df_IncomeAndExpenses[GetExpenseTypes()[i]].sum(axis=1)\n",
    "#         df_IncomeAndExpenses.drop(columns=GetExpenseTypes()[i], inplace=True)\n",
    "\n",
    "# aggByRegion = df_IncomeAndExpenses.groupby('Region')[df_IncomeAndExpenses.columns].median()\n",
    "\n",
    "# # FILTER TO ONLY OUR SELECTED REGIONS\n",
    "# aggByRegion = aggByRegion.loc[selected_Regions]\n",
    "\n",
    "# # MAKE EXPENSES NEGATIVE\n",
    "# aggByRegion.loc[:, ~aggByRegion.columns.isin(['Income', 'Total Household Income'])] *= -1\n",
    "\n",
    "# # PLOT THE GRAPH\n",
    "# fig = px.bar(data_frame = aggByRegion, x=aggByRegion.index, y=aggByRegion.columns, barmode='relative',\n",
    "#              title = 'Median Income and Expenses per Region',\n",
    "#              height = 600,\n",
    "#              labels={\n",
    "#                 'value' : 'Php',\n",
    "#                 'variable' : 'Income and Expenses'\n",
    "#             })\n",
    "# return fig"
   ]
  }
 ],
 "metadata": {
  "kernelspec": {
   "display_name": "Python 3 (ipykernel)",
   "language": "python",
   "name": "python3"
  },
  "language_info": {
   "codemirror_mode": {
    "name": "ipython",
    "version": 3
   },
   "file_extension": ".py",
   "mimetype": "text/x-python",
   "name": "python",
   "nbconvert_exporter": "python",
   "pygments_lexer": "ipython3",
   "version": "3.10.10"
  }
 },
 "nbformat": 4,
 "nbformat_minor": 5
}
