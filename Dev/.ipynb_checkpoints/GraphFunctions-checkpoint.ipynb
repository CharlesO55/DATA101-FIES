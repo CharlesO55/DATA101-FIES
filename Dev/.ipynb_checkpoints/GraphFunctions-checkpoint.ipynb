{
 "cells": [
  {
   "cell_type": "code",
   "execution_count": 1,
   "id": "835c5e8e-65b7-4780-be8f-d4463fe3d3cb",
   "metadata": {},
   "outputs": [],
   "source": [
    "import pandas as pd\n",
    "import plotly.express as px\n",
    "import geopandas as gpd"
   ]
  },
  {
   "cell_type": "markdown",
   "id": "7b5a9769-e83d-4da5-995f-4c5bafa6d6e6",
   "metadata": {},
   "source": [
    "## Pandas and GeoJson Prep"
   ]
  },
  {
   "cell_type": "code",
   "execution_count": 2,
   "id": "b4be3a8c-b2a4-45b9-8285-dac547f1ef03",
   "metadata": {},
   "outputs": [],
   "source": [
    "def GetDataframe():\n",
    "    df_Raw = pd.read_csv('../Datasets/Family Income and Expenditure.csv')\n",
    "\n",
    "    #Remove whitespaces like in ' ARMM'\n",
    "    df_Raw['Region'] = df_Raw['Region'].apply(lambda x: x.strip())\n",
    "\n",
    "    #Change the food column name\n",
    "    df_Raw.rename(columns={\n",
    "                    'Bread and Cereals Expenditure':'Bread and Cereals',\n",
    "                    'Meat Expenditure':'Meat',\n",
    "                    'Total Rice Expenditure':'Rice', \n",
    "                    'Total Fish and  marine products Expenditure':'Seafood', \n",
    "                    'Fruit Expenditure':'Fruits', \n",
    "                    'Vegetables Expenditure':'Vegetables'\n",
    "                  },\n",
    "                  inplace=True\n",
    "                 )\n",
    "    return df_Raw"
   ]
  },
  {
   "cell_type": "code",
   "execution_count": 3,
   "id": "82731b39-0111-42c4-8daf-cdb74be3369d",
   "metadata": {},
   "outputs": [],
   "source": [
    "def GetFoodLabels():\n",
    "    return ['Bread and Cereals','Meat', 'Rice', 'Seafood', 'Fruits', 'Vegetables']"
   ]
  },
  {
   "cell_type": "code",
   "execution_count": 4,
   "id": "d7cb0bd5-6895-441a-9023-b6922259ccf5",
   "metadata": {},
   "outputs": [],
   "source": [
    "def GetGeoJson():\n",
    "    gj_PhMap = gpd.read_file('../Datasets/country.0.001.json')\n",
    "\n",
    "    # MATCH REGION NAME TO OUR CSV \n",
    "    gj_PhMap['adm1_en'] = gj_PhMap['adm1_en'].replace(\n",
    "        ['Region I (Ilocos Region)', 'Region II (Cagayan Valley)',\n",
    "           'Region III (Central Luzon)', 'Region IV-A (CALABARZON)',\n",
    "           'Region V (Bicol Region)', 'Region VI (Western Visayas)',\n",
    "           'Region VII (Central Visayas)', 'Region VIII (Eastern Visayas)',\n",
    "           'Region IX (Zamboanga Peninsula)', 'Region X (Northern Mindanao)',\n",
    "           'Region XI (Davao Region)', 'Region XII (SOCCSKSARGEN)',\n",
    "           'National Capital Region (NCR)',\n",
    "           'Cordillera Administrative Region (CAR)', 'Region XIII (Caraga)',\n",
    "           'MIMAROPA Region',\n",
    "           'Bangsamoro Autonomous Region In Muslim Mindanao (BARMM)']\n",
    "        ,\n",
    "    \n",
    "        ['I - Ilocos Region', 'II - Cagayan Valley',\n",
    "         'III - Central Luzon', 'IVA - CALABARZON',\n",
    "         'V - Bicol Region', 'VI - Western Visayas', \n",
    "         'VII - Central Visayas', 'VIII - Eastern Visayas',\n",
    "         'IX - Zasmboanga Peninsula', 'X - Northern Mindanao',\n",
    "         'XI - Davao Region', 'XII - SOCCSKSARGEN',\n",
    "         'NCR',\n",
    "         'CAR', 'Caraga',\n",
    "         'IVB - MIMAROPA', \n",
    "         'ARMM'])\n",
    "    return gj_PhMap"
   ]
  },
  {
   "cell_type": "markdown",
   "id": "568472f2-ee4c-43b4-a6c3-c5bf758dc60f",
   "metadata": {},
   "source": [
    "# All Graphs"
   ]
  },
  {
   "cell_type": "markdown",
   "id": "50ab0858-9d9d-4fe4-9b1e-f34dcc1f70d3",
   "metadata": {},
   "source": [
    "## Choropleth of Income"
   ]
  },
  {
   "cell_type": "code",
   "execution_count": 5,
   "id": "e9ad0daa-ebe8-4ca2-8f17-1fd96dc8c2e7",
   "metadata": {},
   "outputs": [],
   "source": [
    "def GetFig_Choropleth(ref_Dataframe, ref_GeoJson, agg_Mode):\n",
    "    match agg_Mode:\n",
    "        case 'Max':\n",
    "           agg_Income = ref_Dataframe.groupby('Region')['Total Household Income'].max()\n",
    "        case 'Min':\n",
    "           agg_Income = ref_Dataframe.groupby('Region')['Total Household Income'].min()\n",
    "        case 'Median':\n",
    "           agg_Income = ref_Dataframe.groupby('Region')['Total Household Income'].median()\n",
    "        case default:\n",
    "           agg_Income = ref_Dataframe.groupby('Region')['Total Household Income'].mean()\n",
    "    \n",
    "    \n",
    "    fig = px.choropleth_mapbox(\n",
    "        data_frame = agg_Income,\n",
    "        geojson = ref_GeoJson,\n",
    "        locations = agg_Income.index, #'Region',\n",
    "        featureidkey = 'properties.adm1_en',\n",
    "        color = agg_Income.values, #'Total Household Income',\n",
    "        center = {'lat': 12.738500, 'lon': 121.766632},\n",
    "        mapbox_style= 'carto-positron',\n",
    "        zoom = 4,\n",
    "        opacity = 0.3,\n",
    "        height=600,\n",
    "        labels={'color':'Php'},\n",
    "        title='Income per Region'\n",
    "    )\n",
    "    return fig"
   ]
  },
  {
   "cell_type": "markdown",
   "id": "68c5300e-b34e-4a37-a154-471fea097a67",
   "metadata": {},
   "source": [
    "## Pie Chart of Top 10 Jobs"
   ]
  },
  {
   "cell_type": "code",
   "execution_count": 6,
   "id": "107a44d7-70ee-434a-8821-237164ee22b5",
   "metadata": {},
   "outputs": [],
   "source": [
    "def GetFig_MostEmployedJobs(ref_Dataframe, region_Name):\n",
    "    df_AllJobs = ref_Dataframe[ref_Dataframe['Region'] == region_Name]['Household Head Occupation'].value_counts()\n",
    "    df_Top10Jobs = df_AllJobs[:10]\n",
    "    #df_Top10Jobs['Others'] = df_AllJobs[10:].sum()\n",
    "    #print(df_Top10Jobs)\n",
    "    #fig = px.histogram(data_frame=df_Top10Jobs, x=df_Top10Jobs.index, y= df_Top10Jobs.values)\n",
    "    \n",
    "    fig = px.pie(df_Top10Jobs, values = df_Top10Jobs.values, names = df_Top10Jobs.index, title='Top 10 Most Employed Jobs in ' + region_Name, hover_name=df_Top10Jobs.index)\n",
    "    return fig"
   ]
  },
  {
   "cell_type": "markdown",
   "id": "ee404295-baf9-401d-b646-4a9466c82126",
   "metadata": {},
   "source": [
    "## Stacked Barchart of Food Breakdown per Region"
   ]
  },
  {
   "cell_type": "code",
   "execution_count": 7,
   "id": "bb643f1c-1bc1-4226-9861-d08d4326563f",
   "metadata": {},
   "outputs": [],
   "source": [
    "def GetFig_FoodBreakdown(ref_Dataframe, selected_Foods):\n",
    "    avg_FoodExpenses = ref_Dataframe.groupby('Region')[selected_Foods].mean()\n",
    "    \n",
    "    fig = px.bar(data_frame = avg_FoodExpenses, x=avg_FoodExpenses.index, y=selected_Foods, \n",
    "                 title='Food Expenses per Region', labels={'x': 'Regions', 'value':'Php', 'variable':'Food Expenses'}) \n",
    "    fig.update_layout(barmode='stack', xaxis={'categoryorder':'total descending'})\n",
    "    return fig"
   ]
  },
  {
   "cell_type": "markdown",
   "id": "047d2c52-4653-4d23-ac1f-5bad8ee4a60e",
   "metadata": {},
   "source": [
    "## Stacked Barchart of Income vs Expenses"
   ]
  },
  {
   "cell_type": "code",
   "execution_count": 8,
   "id": "37f41faa-1bb6-42b9-a088-f957e5d265f1",
   "metadata": {},
   "outputs": [],
   "source": [
    "def GetFig_IncomeVsExpenses(ref_Dataframe, selected_Regions):\n",
    "    queryCols = ['Total Household Income', 'Total Food Expenditure', \n",
    "               'Restaurant and hotels Expenditure', 'Alcoholic Beverages Expenditure',\n",
    "               'Tobacco Expenditure', 'Clothing, Footwear and Other Wear Expenditure',\n",
    "               'Housing and water Expenditure', 'Imputed House Rental Value',\n",
    "               'Medical Care Expenditure', 'Transportation Expenditure',\n",
    "               'Communication Expenditure', 'Education Expenditure',\n",
    "               'Miscellaneous Goods and Services Expenditure',\n",
    "               'Special Occasions Expenditure', 'Crop Farming and Gardening expenses']\n",
    "    queryCols.append('Region')\n",
    "    \n",
    "    df_IncomeAndExpenses = ref_Dataframe[queryCols].copy()\n",
    "    \n",
    "    # GET THE MEDIAN OF THE REGIONS\n",
    "    queryCols.remove('Region')\n",
    "    aggByRegion = df_IncomeAndExpenses.groupby('Region')[queryCols].median().reset_index()\n",
    "    \n",
    "    # FILTER TO ONLY OUR SELECTED REGIONS\n",
    "    aggByRegion = aggByRegion[aggByRegion['Region'].apply(lambda x: x in selected_Regions)]\n",
    "    \n",
    "    # MAKE EXPENSES NEGATIVE\n",
    "    aggByRegion[queryCols] *= -1\n",
    "    aggByRegion['Total Household Income'] *= -1\n",
    "    \n",
    "    # PLOT THE GRAPH\n",
    "    fig = px.bar(data_frame = aggByRegion, x='Region', y=queryCols, barmode='relative',\n",
    "                 title = 'Median Income and Expenses per Region',\n",
    "                 height = 600,\n",
    "                 labels={\n",
    "                    'value' : 'Php',\n",
    "                    'variable' : 'Income and Expenses'\n",
    "                })\n",
    "    fig.update_layout(xaxis={'categoryorder':'total descending'})\n",
    "    return fig"
   ]
  },
  {
   "cell_type": "code",
   "execution_count": null,
   "id": "8ff64913-bde7-4984-9b7e-9680ea5a8e15",
   "metadata": {},
   "outputs": [],
   "source": []
  }
 ],
 "metadata": {
  "kernelspec": {
   "display_name": "Python 3 (ipykernel)",
   "language": "python",
   "name": "python3"
  },
  "language_info": {
   "codemirror_mode": {
    "name": "ipython",
    "version": 3
   },
   "file_extension": ".py",
   "mimetype": "text/x-python",
   "name": "python",
   "nbconvert_exporter": "python",
   "pygments_lexer": "ipython3",
   "version": "3.10.10"
  }
 },
 "nbformat": 4,
 "nbformat_minor": 5
}
