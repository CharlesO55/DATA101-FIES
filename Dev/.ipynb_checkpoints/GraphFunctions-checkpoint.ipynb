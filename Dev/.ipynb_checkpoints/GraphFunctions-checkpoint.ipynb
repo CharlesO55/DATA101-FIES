{
 "cells": [
  {
   "cell_type": "code",
   "execution_count": 1,
   "id": "835c5e8e-65b7-4780-be8f-d4463fe3d3cb",
   "metadata": {},
   "outputs": [],
   "source": [
    "import pandas as pd\n",
    "import plotly.express as px\n",
    "import geopandas as gpd"
   ]
  },
  {
   "cell_type": "markdown",
   "id": "7b5a9769-e83d-4da5-995f-4c5bafa6d6e6",
   "metadata": {},
   "source": [
    "## Pandas and GeoJson Prep"
   ]
  },
  {
   "cell_type": "code",
   "execution_count": 2,
   "id": "b4be3a8c-b2a4-45b9-8285-dac547f1ef03",
   "metadata": {},
   "outputs": [],
   "source": [
    "def GetDataframe():\n",
    "    df_Raw = pd.read_csv('../Datasets/Family Income and Expenditure.csv')\n",
    "\n",
    "    #Remove whitespaces like in ' ARMM'\n",
    "    df_Raw['Region'] = df_Raw['Region'].apply(lambda x: x.strip())\n",
    "    return df_Raw"
   ]
  },
  {
   "cell_type": "code",
   "execution_count": 3,
   "id": "d7cb0bd5-6895-441a-9023-b6922259ccf5",
   "metadata": {},
   "outputs": [],
   "source": [
    "def GetGeoJson():\n",
    "    gj_PhMap = gpd.read_file('../Datasets/country.0.001.json')\n",
    "\n",
    "    # MATCH REGION NAME TO OUR CSV \n",
    "    gj_PhMap['adm1_en'] = gj_PhMap['adm1_en'].replace(\n",
    "        ['Region I (Ilocos Region)', 'Region II (Cagayan Valley)',\n",
    "           'Region III (Central Luzon)', 'Region IV-A (CALABARZON)',\n",
    "           'Region V (Bicol Region)', 'Region VI (Western Visayas)',\n",
    "           'Region VII (Central Visayas)', 'Region VIII (Eastern Visayas)',\n",
    "           'Region IX (Zamboanga Peninsula)', 'Region X (Northern Mindanao)',\n",
    "           'Region XI (Davao Region)', 'Region XII (SOCCSKSARGEN)',\n",
    "           'National Capital Region (NCR)',\n",
    "           'Cordillera Administrative Region (CAR)', 'Region XIII (Caraga)',\n",
    "           'MIMAROPA Region',\n",
    "           'Bangsamoro Autonomous Region In Muslim Mindanao (BARMM)']\n",
    "        ,\n",
    "    \n",
    "        ['I - Ilocos Region', 'II - Cagayan Valley',\n",
    "         'III - Central Luzon', 'IVA - CALABARZON',\n",
    "         'V - Bicol Region', 'VI - Western Visayas', \n",
    "         'VII - Central Visayas', 'VIII - Eastern Visayas',\n",
    "         'IX - Zasmboanga Peninsula', 'X - Northern Mindanao',\n",
    "         'XI - Davao Region', 'XII - SOCCSKSARGEN',\n",
    "         'NCR',\n",
    "         'CAR', 'Caraga',\n",
    "         'IVB - MIMAROPA', \n",
    "         'ARMM'])\n",
    "    return gj_PhMap"
   ]
  },
  {
   "cell_type": "markdown",
   "id": "568472f2-ee4c-43b4-a6c3-c5bf758dc60f",
   "metadata": {},
   "source": [
    "# All Graphs"
   ]
  },
  {
   "cell_type": "markdown",
   "id": "50ab0858-9d9d-4fe4-9b1e-f34dcc1f70d3",
   "metadata": {},
   "source": [
    "## Choropleth of Income"
   ]
  },
  {
   "cell_type": "code",
   "execution_count": 4,
   "id": "e9ad0daa-ebe8-4ca2-8f17-1fd96dc8c2e7",
   "metadata": {},
   "outputs": [],
   "source": [
    "def GetFig_Choropleth(ref_Dataframe, ref_GeoJson, agg_Mode):\n",
    "    match agg_Mode:\n",
    "        case 'Max':\n",
    "           agg_Income = ref_Dataframe.groupby('Region')['Total Household Income'].max()\n",
    "        case 'Min':\n",
    "           agg_Income = ref_Dataframe.groupby('Region')['Total Household Income'].min()\n",
    "        case 'Median':\n",
    "           agg_Income = ref_Dataframe.groupby('Region')['Total Household Income'].median()\n",
    "        case default:\n",
    "           agg_Income = ref_Dataframe.groupby('Region')['Total Household Income'].mean()\n",
    "    \n",
    "    \n",
    "    fig = px.choropleth_mapbox(\n",
    "        data_frame = agg_Income,\n",
    "        geojson = ref_GeoJson,\n",
    "        locations = agg_Income.index, #'Region',\n",
    "        featureidkey = 'properties.adm1_en',\n",
    "        color = agg_Income.values, #'Total Household Income',\n",
    "        center = {'lat': 12.738500, 'lon': 121.766632},\n",
    "        mapbox_style= 'carto-positron',\n",
    "        zoom = 4,\n",
    "        opacity = 0.3,\n",
    "        height=600\n",
    "    )\n",
    "    return fig"
   ]
  },
  {
   "cell_type": "markdown",
   "id": "68c5300e-b34e-4a37-a154-471fea097a67",
   "metadata": {},
   "source": [
    "## Pie Chart of Top 10 Jobs"
   ]
  },
  {
   "cell_type": "code",
   "execution_count": 5,
   "id": "107a44d7-70ee-434a-8821-237164ee22b5",
   "metadata": {},
   "outputs": [],
   "source": [
    "def GetFig_MostEmployedJobs(ref_Dataframe, region_Name):\n",
    "    df_Top10Jobs = ref_Dataframe[ref_Dataframe['Region'] == region_Name]['Household Head Occupation'].value_counts()[:10]\n",
    "\n",
    "    fig = px.pie(df_Top10Jobs, values = df_Top10Jobs.values, names = df_Top10Jobs.index, title='Top 10 Most Employed Jobs in ' + region_Name, hover_name=df_Top10Jobs.index)\n",
    "    return fig"
   ]
  }
 ],
 "metadata": {
  "kernelspec": {
   "display_name": "Python 3 (ipykernel)",
   "language": "python",
   "name": "python3"
  },
  "language_info": {
   "codemirror_mode": {
    "name": "ipython",
    "version": 3
   },
   "file_extension": ".py",
   "mimetype": "text/x-python",
   "name": "python",
   "nbconvert_exporter": "python",
   "pygments_lexer": "ipython3",
   "version": "3.10.10"
  }
 },
 "nbformat": 4,
 "nbformat_minor": 5
}
