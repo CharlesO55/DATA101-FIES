{
 "cells": [
  {
   "cell_type": "code",
   "execution_count": 1,
   "id": "09614ab4-3979-487c-b712-6caea280342f",
   "metadata": {},
   "outputs": [],
   "source": [
    "import pandas as pd\n",
    "import plotly.express as px\n",
    "import geopandas as gpd\n",
    "from dash import Dash, dcc, html, Output, Input, dash_table\n",
    "import dash_bootstrap_components as dbc\n",
    "import dash_daq as daq"
   ]
  },
  {
   "cell_type": "code",
   "execution_count": 2,
   "id": "9ccfe202-2655-49f6-94b9-9ff6d521409e",
   "metadata": {},
   "outputs": [],
   "source": [
    "#CUSTOM GRAPHS\n",
    "import ipynb.fs.full.GraphFunctions as MyGraphs"
   ]
  },
  {
   "cell_type": "markdown",
   "id": "3039625b-a7db-44b9-9edd-2e9a3c098db6",
   "metadata": {},
   "source": [
    "## Prep Pandas Dataframe"
   ]
  },
  {
   "cell_type": "code",
   "execution_count": 3,
   "id": "35001f53-b753-401d-8edf-a5433ac12bb7",
   "metadata": {},
   "outputs": [],
   "source": [
    "df_Raw = MyGraphs.GetDataframe()\n",
    "#df_Raw.head()"
   ]
  },
  {
   "cell_type": "markdown",
   "id": "6ca21e7f-1523-4d6e-aff1-0a8d76fd8625",
   "metadata": {},
   "source": [
    "## Prep GeoJson"
   ]
  },
  {
   "cell_type": "code",
   "execution_count": 4,
   "id": "bd208a95-877b-40ed-9496-78e5f1e63342",
   "metadata": {},
   "outputs": [],
   "source": [
    "gj_PhMap = MyGraphs.GetGeoJson()\n",
    "#gj_PhMap.head()"
   ]
  },
  {
   "cell_type": "markdown",
   "id": "08c4585b-e949-46fb-b7ef-878df552fbf1",
   "metadata": {},
   "source": [
    "# Website Development\n",
    "### Stylesheet"
   ]
  },
  {
   "cell_type": "code",
   "execution_count": 5,
   "id": "830e210e-34a9-4006-819b-8869ca932dc1",
   "metadata": {},
   "outputs": [],
   "source": [
    "CSS_Styles = [dbc.themes.CERULEAN] #\"https://cdn.jsdelivr.net/npm/bootswatch@4.5.2/dist/lumen/bootstrap.min.css\"]\n",
    "app = Dash(__name__, external_stylesheets=CSS_Styles,\n",
    "                meta_tags=[{'name': 'viewport',\n",
    "                            'content': 'width=device-width, initial-scale=1.0'}]\n",
    "                )"
   ]
  },
  {
   "cell_type": "markdown",
   "id": "54cb70d6-346d-4796-8fe8-3598a99b24bb",
   "metadata": {},
   "source": [
    "# Components"
   ]
  },
  {
   "cell_type": "markdown",
   "id": "8c99ebf2-51f6-4172-8902-a5b2c1db359d",
   "metadata": {},
   "source": [
    "#### [1] Income Choropleth"
   ]
  },
  {
   "cell_type": "code",
   "execution_count": 6,
   "id": "78ef8b3d-d32a-4c6e-83ab-2909a3a769f2",
   "metadata": {},
   "outputs": [],
   "source": [
    "graph_1 = dcc.Graph(id='Choropleth_Income', figure={}, clickData=None)\n",
    "radio_1 = dcc.RadioItems(id='Choropleth_Radio', options=['Mean','Median', 'Min', 'Max'], value='Mean', \n",
    "                           labelStyle={\"margin-right\":\"1rem\", 'display': 'inline-block'});"
   ]
  },
  {
   "cell_type": "markdown",
   "id": "1e257e71-3fbe-4cfe-95f9-8d40002eab50",
   "metadata": {},
   "source": [
    "#### [2] Top 10 Jobs"
   ]
  },
  {
   "cell_type": "code",
   "execution_count": 7,
   "id": "05f786e1-b6b9-4795-85f0-6a82d357c7fc",
   "metadata": {},
   "outputs": [],
   "source": [
    "graph_2 = dcc.Graph(id='Pie_TopJobs', figure={})"
   ]
  },
  {
   "cell_type": "markdown",
   "id": "5d7642d4-ce05-4b76-88b1-0a51a3614039",
   "metadata": {},
   "source": [
    "#### [3] Income vs Expenses"
   ]
  },
  {
   "cell_type": "code",
   "execution_count": 8,
   "id": "d671e7d3-6ecd-4f25-8a73-7df298307ce1",
   "metadata": {},
   "outputs": [],
   "source": [
    "dropdown_3 = dcc.Dropdown(id='Dropdown_RegionIncomeVsExpenses', options=list(MyGraphs.GetRegionIDs().keys()), value=list(MyGraphs.GetRegionIDs().keys()), clearable=False, multi=True)\n",
    "checklist_3 = dcc.Checklist(id='Checklist_RegionIncomeVsExpenses', options=list(MyGraphs.GetExpenseTypes().keys()), value=list(MyGraphs.GetExpenseTypes().keys()),\n",
    "                           labelStyle={\"margin-right\":\"1rem\", 'display': 'inline-block'});\n",
    "toggle_3 = daq.BooleanSwitch(id='Toggle_RegionIncomeVsExpenses');\n",
    "graph_3 = dcc.Graph(id='Bar_IncomeVsExpenses', figure={})"
   ]
  },
  {
   "cell_type": "markdown",
   "id": "818de6c0-a17f-4e9a-af17-74b6dd1b7492",
   "metadata": {},
   "source": [
    "#### [4] Food Expenditure Breakdown"
   ]
  },
  {
   "cell_type": "code",
   "execution_count": 9,
   "id": "c0c1f6a9-20ff-42b0-ae41-0f0e9f091003",
   "metadata": {},
   "outputs": [],
   "source": [
    "checklist_4 = dcc.Checklist(id='Food_Checklist', value= MyGraphs.GetColumnNames_ForFood(), \n",
    "                            options = MyGraphs.GetColumnNames_ForFood(),\n",
    "                            labelStyle={\"margin-right\":\"1rem\", 'display': 'inline-block'},\n",
    "                           )\n",
    "dropdown_4 = dcc.Dropdown(id='Food_Dropdown', value=MyGraphs.GetGroupings_ForFoodBreakdown()[0],\n",
    "                            options= MyGraphs.GetGroupings_ForFoodBreakdown(), clearable=False, \n",
    "                         )\n",
    "graph_4 = dcc.Graph(id='Bar_FoodBreakdown', figure={})"
   ]
  },
  {
   "cell_type": "markdown",
   "id": "0df16a2f-19f1-4d21-87ae-cbb28f4e82a4",
   "metadata": {},
   "source": [
    "# Layout"
   ]
  },
  {
   "cell_type": "markdown",
   "id": "897b3782-bd3f-49a8-ad81-d09bdd1f0c41",
   "metadata": {},
   "source": [
    "#### [0] Navbar"
   ]
  },
  {
   "cell_type": "code",
   "execution_count": 10,
   "id": "21325eaf-20fa-4ce5-a176-57b422cbff3c",
   "metadata": {},
   "outputs": [],
   "source": [
    "navbar = dbc.Navbar(className = 'sticky-top', children=\n",
    "    dbc.Container([\n",
    "            dbc.NavbarBrand(\"FIES Visualization\", className=\"align-self-start text-light\"),\n",
    "            dbc.Nav(children=[\n",
    "                        dbc.NavItem(dbc.NavLink(\"Income\", href=\"#Income Card\", external_link=True, className=\"text-light\")),\n",
    "                        dbc.NavItem(dbc.NavLink(\"Expenses\", href=\"#Expenses Card\", external_link=True, className=\"text-light\")),\n",
    "                        dbc.NavItem(dbc.NavLink(\"Food\", href=\"#Food Card\", external_link=True, className=\"text-light\"))\n",
    "                    ]),\n",
    "        ]),       \n",
    "    color=\"primary\"\n",
    "    #dark=True,\n",
    ")"
   ]
  },
  {
   "cell_type": "markdown",
   "id": "ba95d56b-28c7-4709-9be3-c53a3f959d3f",
   "metadata": {},
   "source": [
    "#### [1 & 2] Income and Job Cards"
   ]
  },
  {
   "cell_type": "code",
   "execution_count": 11,
   "id": "f804557b-e3a7-4cba-b89d-3e8baf7c5644",
   "metadata": {},
   "outputs": [],
   "source": [
    "incomeCards = [\n",
    "        dbc.Card(id='Income Card',\n",
    "            children = [\n",
    "            html.H3(\"Household Income\", className='card-header text-primary'),\n",
    "            dbc.CardBody([\n",
    "                dbc.Accordion(dbc.AccordionItem([\n",
    "                        html.P(\"Income is an indicator of not just growth per capita but also potential for social mobility. Having more wealth allows families to better afford and access services, education, and oppurtunities.\"),\n",
    "                        html.P(\"Compare the income of each region.\"),\n",
    "                    ]), start_collapsed=False, flush=True),\n",
    "                 \n",
    "                dbc.Row([\n",
    "                    dbc.Col(html.B(\"Select \"), width=1),\n",
    "                    dbc.Col(radio_1)\n",
    "                ]),\n",
    "                graph_1\n",
    "            ])\n",
    "        ]),\n",
    "        dbc.Card([\n",
    "            html.H3(\"Regional Professions\", className='card-header text-primary'),\n",
    "            dbc.CardBody([\n",
    "                dbc.Accordion(dbc.AccordionItem([\n",
    "                        html.P(\"Not all regions are as well developed and urbanized as NCR, thus certain professions may be restricted in specific regions.\"),\n",
    "                        html.P(\"Discover the most common jobs and trades.\"),\n",
    "                    ]), start_collapsed=False, flush=True), \n",
    "                graph_2,\n",
    "                dash_table.DataTable(id='Table_TopJobs', data=[]),\n",
    "            ])\n",
    "        ])\n",
    "]"
   ]
  },
  {
   "cell_type": "markdown",
   "id": "64290eb0-0774-4e22-bc6d-1b18434e7646",
   "metadata": {},
   "source": [
    "#### [3] Expenses Card"
   ]
  },
  {
   "cell_type": "code",
   "execution_count": 12,
   "id": "4dbe5b0f-9593-4928-8d02-87064f551060",
   "metadata": {},
   "outputs": [],
   "source": [
    "expensesCard = dbc.Card(id=\"Expenses Card\", className = 'mt-4',\n",
    "         children=[\n",
    "            html.H3(\"Household Expenses\", className='card-header text-primary'),\n",
    "            \n",
    "            dbc.CardBody(children=[\n",
    "                dbc.Accordion(dbc.AccordionItem([\n",
    "                    html.P(\"Poverty is a long persistent issue plaguing the nation. Its causes are rooted in high costs of living and low salaries.\"),\n",
    "                    html.P(\"Utilize the graphs to isolate expenses and see its effect on a household's savings.\"),\n",
    "                ]), start_collapsed=False, flush=True),\n",
    "        \n",
    "                #INTERACTIONS\n",
    "                dbc.Row([\n",
    "                    dbc.Col(html.B(\"Regions\"), width=1),\n",
    "                    dbc.Col(dropdown_3)\n",
    "                ]),\n",
    "                dbc.Row(style={'justify-items': 'start'}, children=[\n",
    "                    dbc.Col(html.B(\"Expenses\"), width=1),\n",
    "                    dbc.Col(checklist_3, width = 3),\n",
    "                    dbc.Col(html.B(\"Collapse\"), width=1),\n",
    "                    dbc.Col(toggle_3, width=1),\n",
    "                ]),\n",
    "                        \n",
    "                graph_3\n",
    "            ])\n",
    "    ])"
   ]
  },
  {
   "cell_type": "markdown",
   "id": "4b56f0b6-ccbf-4e44-bbca-807484608f17",
   "metadata": {},
   "source": [
    "#### [4] FoodCard"
   ]
  },
  {
   "cell_type": "code",
   "execution_count": 13,
   "id": "283f842d-084a-4c50-b792-fc511eba1c5e",
   "metadata": {},
   "outputs": [],
   "source": [
    " # GRAPH 4 Foods Expenditure\n",
    "foodCard = dbc.Card(id=\"Food Card\", className='mt-4',\n",
    "        children=[\n",
    "            html.H3(\"Food Expenditure\", className='card-header text-primary'),\n",
    "            dbc.CardBody(children=[\n",
    "                dbc.Accordion(dbc.AccordionItem([\n",
    "                    html.P(\"Being able to monitor food expenditure amongst different groups can help us analyze the nurtitional intake of varying types of households.\"),\n",
    "                    html.P(\"Explore different categories to find those requiring assistance for nurtitional balance.\"),\n",
    "                ]), start_collapsed=False, flush=True),\n",
    "                \n",
    "                #INTERACTIONS\n",
    "                dbc.Row([\n",
    "                    dbc.Col(html.B(\"Factors\"), width=1), \n",
    "                    dbc.Col(dropdown_4, width=3)\n",
    "                ]),\n",
    "                dbc.Row([\n",
    "                    dbc.Col(html.B(\"Food\"), width=1),\n",
    "                    dbc.Col(checklist_4)\n",
    "                ]),\n",
    "                \n",
    "                graph_4\n",
    "            ])\n",
    "    ])"
   ]
  },
  {
   "cell_type": "markdown",
   "id": "7beffa36-1cd7-4185-b613-51685b36f87b",
   "metadata": {},
   "source": [
    "# Callback"
   ]
  },
  {
   "cell_type": "markdown",
   "id": "deb5a707-f795-477f-a2ae-22ceb0bca0b6",
   "metadata": {},
   "source": [
    "#### [1] Income Choropleth"
   ]
  },
  {
   "cell_type": "code",
   "execution_count": 14,
   "id": "bcdac187-3b9d-4169-bad2-294f38a21b56",
   "metadata": {},
   "outputs": [],
   "source": [
    "@app.callback(\n",
    "    Output(component_id='Choropleth_Income', component_property='figure'),\n",
    "    Input(component_id='Choropleth_Radio', component_property='value')\n",
    ")\n",
    "def UpdateIncomeChoropleth(aggChoice):\n",
    "    fig = MyGraphs.GetFig_Choropleth(\n",
    "        ref_Dataframe = df_Raw, \n",
    "        ref_GeoJson = gj_PhMap, \n",
    "        agg_Mode = aggChoice\n",
    "    )\n",
    "    return fig"
   ]
  },
  {
   "cell_type": "markdown",
   "id": "6ee3f95d-b83e-4caf-ab58-88cc2c045684",
   "metadata": {},
   "source": [
    "#### [2] Top 10 Jobs"
   ]
  },
  {
   "cell_type": "code",
   "execution_count": 16,
   "id": "e9c926c6-c747-4dd1-9182-72ed058d1d2b",
   "metadata": {},
   "outputs": [],
   "source": [
    "@app.callback(\n",
    "    [\n",
    "        Output(component_id='Pie_TopJobs', component_property='figure'),\n",
    "        Output(component_id='Table_TopJobs', component_property='data')\n",
    "    ],\n",
    "    Input(component_id='Choropleth_Income', component_property='clickData')\n",
    ")\n",
    "def UpdateTopJobs(clk_data):\n",
    "        if clk_data is None:\n",
    "            fig2 = MyGraphs.GetFig_MostEmployedJobs(df_Raw, 'NCR')\n",
    "            return fig2, MyGraphs.Filter_Top10Jobs(df_Raw, 'NCR').reset_index().to_dict('records')\n",
    "        else:\n",
    "            clk_Region = clk_data['points'][0]['location']\n",
    "            fig2 = MyGraphs.GetFig_MostEmployedJobs(df_Raw, clk_Region)\n",
    "            return fig2, MyGraphs.Filter_Top10Jobs(df_Raw, clk_Region).reset_index().to_dict('records')"
   ]
  },
  {
   "cell_type": "markdown",
   "id": "335a67a3-729c-44a1-a106-164bd8756a4b",
   "metadata": {},
   "source": [
    "#### [3] Income vs Expenses"
   ]
  },
  {
   "cell_type": "code",
   "execution_count": 18,
   "id": "ff9af1d2-ad0b-419e-9860-46e4fdf7da8f",
   "metadata": {},
   "outputs": [],
   "source": [
    "@app.callback(\n",
    "    Output(component_id='Bar_IncomeVsExpenses', component_property='figure'),\n",
    "    Input(component_id='Dropdown_RegionIncomeVsExpenses', component_property='value'),\n",
    "    Input(component_id='Checklist_RegionIncomeVsExpenses', component_property='value'),\n",
    "    Input(component_id='Toggle_RegionIncomeVsExpenses', component_property='on')\n",
    ")\n",
    "def UpdateIncomeExpenseComparison(slct_Regions, slct_Category, is_Collapse):\n",
    "    # if slct_Regions is None or slct_Category is None:\n",
    "    #     return MyGraphs.GetFig_IncomeVsExpenses(df_Raw, ['NCR'], ['Income'])\n",
    "    # else:\n",
    "    return MyGraphs.GetFig_IncomeVsExpenses(df_Raw, slct_Regions, slct_Category, is_Collapse)"
   ]
  },
  {
   "cell_type": "markdown",
   "id": "89ee7bbe-cf62-42dd-a993-2b46a15f0417",
   "metadata": {},
   "source": [
    "#### [4] Food Expenditure Breakdown"
   ]
  },
  {
   "cell_type": "code",
   "execution_count": 19,
   "id": "b0f2e14b-b651-4c23-b229-ed367b872060",
   "metadata": {},
   "outputs": [],
   "source": [
    "@app.callback(\n",
    "    Output(component_id='Bar_FoodBreakdown', component_property='figure'),\n",
    "    Input(component_id='Food_Checklist', component_property='value'),\n",
    "    Input(component_id='Food_Dropdown', component_property='value')\n",
    ")\n",
    "def UpdateFoodExpenditure(slct_foods, slct_grouping):\n",
    "    # if slct_foods is None or slct_grouping is None:\n",
    "    #     return MyGraphs.GetFig_FoodBreakdown(df_Raw, MyGraphs.GetColumnNames_ForFood(), 'Total Number of Family members')\n",
    "    # else:\n",
    "    return MyGraphs.GetFig_FoodBreakdown(df_Raw, slct_foods, slct_grouping)"
   ]
  },
  {
   "cell_type": "code",
   "execution_count": 20,
   "id": "5719fbfa-349e-43bd-9c49-5a09bdc1a5da",
   "metadata": {},
   "outputs": [],
   "source": [
    "df_TopJobs = MyGraphs.Filter_Top10Jobs(df_Raw, 'NCR').reset_index()\n",
    "\n",
    "\n",
    "app.layout = dbc.Container(fluid=True, children=[\n",
    "    navbar,\n",
    "    dbc.Pagination()\n",
    "    dbc.CardGroup(children = incomeCards, className = 'mt-4'),    \n",
    "    expensesCard,\n",
    "    foodCard\n",
    "])"
   ]
  },
  {
   "cell_type": "markdown",
   "id": "61f0a4f5-f102-485f-b524-54458e20516d",
   "metadata": {},
   "source": [
    "# Run"
   ]
  },
  {
   "cell_type": "code",
   "execution_count": 21,
   "id": "b75baef7-277a-454f-bb17-930aa6cf9d1a",
   "metadata": {},
   "outputs": [
    {
     "data": {
      "text/html": [
       "\n",
       "        <iframe\n",
       "            width=\"100%\"\n",
       "            height=\"650\"\n",
       "            src=\"http://127.0.0.1:8053/\"\n",
       "            frameborder=\"0\"\n",
       "            allowfullscreen\n",
       "            \n",
       "        ></iframe>\n",
       "        "
      ],
      "text/plain": [
       "<IPython.lib.display.IFrame at 0x2319105d060>"
      ]
     },
     "metadata": {},
     "output_type": "display_data"
    }
   ],
   "source": [
    "if __name__ == '__main__':\n",
    "    app.run_server(port=8053)"
   ]
  },
  {
   "cell_type": "code",
   "execution_count": null,
   "id": "efd75a14-191e-42f1-98c8-8db5a418a195",
   "metadata": {},
   "outputs": [],
   "source": []
  }
 ],
 "metadata": {
  "kernelspec": {
   "display_name": "Python 3 (ipykernel)",
   "language": "python",
   "name": "python3"
  },
  "language_info": {
   "codemirror_mode": {
    "name": "ipython",
    "version": 3
   },
   "file_extension": ".py",
   "mimetype": "text/x-python",
   "name": "python",
   "nbconvert_exporter": "python",
   "pygments_lexer": "ipython3",
   "version": "3.10.10"
  }
 },
 "nbformat": 4,
 "nbformat_minor": 5
}
